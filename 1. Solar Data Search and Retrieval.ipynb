{
 "cells": [
  {
   "cell_type": "markdown",
   "id": "02c663b7",
   "metadata": {},
   "source": [
    "\n",
    "<div>\n",
    "<img src=\"./images/sunpy_logo.png\" width=\"500\" align=\"left\"/>\n",
    "</div>\n"
   ]
  },
  {
   "cell_type": "markdown",
   "id": "ff073f16",
   "metadata": {},
   "source": [
    "# 1. Searching and downloading data with sunpy\n",
    "\n",
    "\n",
    "\n",
    "In this notebook, an introduction to how you can search for and download data with sunpy. We will begin with an intoduction to astropy units (which are used throughout the sunpy ecosystem), and then look about how to use Fido and build queries for data. In particular:\n",
    "\n",
    "1. Introduction to astropy units\n",
    "2. Overview of Fido \n",
    "3. Constructing a data search query and inspecting it\n",
    "4. More complex queries and the HEK\n",
    "5. Extending Fido - the SOAR archive"
   ]
  },
  {
   "cell_type": "code",
   "execution_count": null,
   "id": "2cef5fb1",
   "metadata": {},
   "outputs": [],
   "source": [
    "import astropy.units as u\n",
    "from sunpy.net import Fido, attrs as a"
   ]
  },
  {
   "cell_type": "markdown",
   "id": "18b45a83",
   "metadata": {},
   "source": [
    "# 1.1 Astropy Units\n",
    "[`astropy.units`](https://docs.astropy.org/en/stable/units/) provides a means to deal with and handle numbers/arrays etc that have an associated physical quantity (e.g. km, seconds, Kelvin). Throughout SunPy, any physical input or outputs is an [`astropy.Quantity`](https://docs.astropy.org/en/stable/units/quantity.html#quantity). Lets look at how we can create and convert between astropy units. Above we have imported `astropy.units` as `u`"
   ]
  },
  {
   "cell_type": "code",
   "execution_count": null,
   "id": "ff5b42e2",
   "metadata": {},
   "outputs": [],
   "source": [
    "distance_in_km = 10*u.km"
   ]
  },
  {
   "cell_type": "code",
   "execution_count": null,
   "id": "d97df5a2",
   "metadata": {},
   "outputs": [],
   "source": [
    "distance_in_km"
   ]
  },
  {
   "cell_type": "code",
   "execution_count": null,
   "id": "20d43fa3",
   "metadata": {},
   "outputs": [],
   "source": [
    "distance_in_km.unit"
   ]
  },
  {
   "cell_type": "code",
   "execution_count": null,
   "id": "91539bd8",
   "metadata": {},
   "outputs": [],
   "source": [
    "distance_in_km.value"
   ]
  },
  {
   "cell_type": "markdown",
   "id": "e5741cd9",
   "metadata": {},
   "source": [
    "We can convert between equivalent units"
   ]
  },
  {
   "cell_type": "code",
   "execution_count": null,
   "id": "cb8883f2",
   "metadata": {},
   "outputs": [],
   "source": [
    "distance_in_km.cgs"
   ]
  },
  {
   "cell_type": "code",
   "execution_count": null,
   "id": "eb5c51b8",
   "metadata": {},
   "outputs": [],
   "source": [
    "distance_in_km.to(u.parsec)"
   ]
  },
  {
   "cell_type": "code",
   "execution_count": null,
   "id": "a3409fa4",
   "metadata": {},
   "outputs": [],
   "source": [
    "distance_in_km.to(u.Mm)"
   ]
  },
  {
   "cell_type": "markdown",
   "id": "919c625b",
   "metadata": {},
   "source": [
    "However you can only convert between physical units that make sense for example:"
   ]
  },
  {
   "cell_type": "code",
   "execution_count": null,
   "id": "0b4164c3",
   "metadata": {},
   "outputs": [],
   "source": [
    "distance_in_km.to(u.second)"
   ]
  },
  {
   "cell_type": "code",
   "execution_count": null,
   "id": "59b2a4cd",
   "metadata": {},
   "outputs": [],
   "source": [
    "time_in_sec = 60*u.s"
   ]
  },
  {
   "cell_type": "code",
   "execution_count": null,
   "id": "8ba03c1d",
   "metadata": {},
   "outputs": [],
   "source": [
    "(distance_in_km/time_in_sec).unit"
   ]
  },
  {
   "cell_type": "markdown",
   "id": "91980f27",
   "metadata": {},
   "source": [
    "## 1. 2 Overview of `Fido` Unified Downloader\n",
    "\n",
    "\n",
    "* [`Fido`](https://docs.sunpy.org/en/stable/guide/acquiring_data/fido.html#fido-guide) is sunpy's interface for searching and downloading solar physics data.\n",
    "\n",
    "* It offers a unified interface for searching and fetching data irrespective of the underlying client or webservice from where the data is obtained.\n",
    "\n",
    "* Offers a way to search and accesses multiple instruments and all available data providers in a single query.\n",
    "\n",
    "* It supplies a single, easy, consistent and *extendable* way to get most forms of solar physics data the community need \n",
    "\n",
    "Fido offers access to data available through:\n",
    "\n",
    " * **VSO**\n",
    " * **JSOC** (through `drms`)\n",
    " * **Individual data providers** from web accessible sources (http, ftp, etc)\n",
    " * **HEK**\n",
    " * **HELIO**\n",
    " \n",
    "As described here Fido provides access to many sources of data through different clients, these clients can be defined inside sunpy or in other packages. Lets print the current list of available clients within sunpy."
   ]
  },
  {
   "cell_type": "code",
   "execution_count": null,
   "id": "b038fa2a",
   "metadata": {},
   "outputs": [],
   "source": [
    "Fido"
   ]
  },
  {
   "cell_type": "markdown",
   "id": "56a5c7cb",
   "metadata": {},
   "source": [
    "### Using attributes to search for data with Fido\n",
    "\n",
    "Sunpy uses specified *attributes* to search for data using Fido. The range of these attributes is located in the `attrs` submodule. These `attr` parameters can be combined together to construct data search queries, such as searching over a certain time period, for data from a certain instrument with a certain wavelength etc.\n",
    "\n",
    "Different clients and provides will have client-specific attributes, but the core attributes are:\n",
    "\n",
    "* `a.Time`\n",
    "* `a.Instrument`\n",
    "* `a.Wavelength`\n",
    "\n",
    "\n",
    "Lets look at how these attributes work in more detail.\n",
    "\n",
    "First we can look at a.Time, which is used to specify the timerange of a query."
   ]
  },
  {
   "cell_type": "code",
   "execution_count": null,
   "id": "e48da72c",
   "metadata": {},
   "outputs": [],
   "source": [
    "a.Time(\"2021-05-23 02:00\", \"2021-05-23 04:00\")"
   ]
  },
  {
   "cell_type": "markdown",
   "id": "11881e78",
   "metadata": {},
   "source": [
    "We can inspect the instrument attribute to see what instrument `attrs` are currently supported through sunpy. Here we can see the instrument name (i.e. the name to be passed to the `a.Instrument` attribute, the client from which the data is available to access, and the full name of the instrument."
   ]
  },
  {
   "cell_type": "code",
   "execution_count": null,
   "id": "9bfab682",
   "metadata": {},
   "outputs": [],
   "source": [
    "a.Instrument"
   ]
  },
  {
   "cell_type": "markdown",
   "id": "9787833d",
   "metadata": {},
   "source": [
    "sunpy also now provides tab completion to auto-fill the attribute name"
   ]
  },
  {
   "cell_type": "code",
   "execution_count": null,
   "id": "7019620a",
   "metadata": {},
   "outputs": [],
   "source": [
    "a.Instrument.eit"
   ]
  },
  {
   "cell_type": "markdown",
   "id": "ce031b81",
   "metadata": {},
   "source": [
    "To search for certain wavelengths, we need to specify the input as an `astropy Quantity` which is a the combination of a value and an associated unit. This is something is universal in the sunpy stack - that every physical input/output is a `Quantity`."
   ]
  },
  {
   "cell_type": "code",
   "execution_count": null,
   "id": "33fee577",
   "metadata": {},
   "outputs": [],
   "source": [
    "a.Wavelength(17.1*u.angstrom)"
   ]
  },
  {
   "cell_type": "markdown",
   "id": "dc7f9d04",
   "metadata": {},
   "source": [
    "## 3. Constructing a search query\n",
    " ### A simple query\n",
    "\n",
    "Lets create a simple query to search for data from AIA over a particular time period"
   ]
  },
  {
   "cell_type": "code",
   "execution_count": null,
   "id": "b4214d5b",
   "metadata": {},
   "outputs": [],
   "source": [
    "result = Fido.search(a.Time(\"2021-05-23 11:00\", \"2021-05-23 11:20\"), \n",
    "                     a.Instrument(\"AIA\"))"
   ]
  },
  {
   "cell_type": "code",
   "execution_count": null,
   "id": "65e06e2e",
   "metadata": {},
   "outputs": [],
   "source": [
    "result"
   ]
  },
  {
   "cell_type": "markdown",
   "id": "c0f4da91",
   "metadata": {},
   "source": [
    "Now lets make our query a bit more specific, say, say we only want one wavelength band from AIA. This can be achieved by specifying the Wavelength attribute within the search. The Wavelength attribute is passed as an astropy Quantity:"
   ]
  },
  {
   "cell_type": "code",
   "execution_count": null,
   "id": "e2f3288c",
   "metadata": {},
   "outputs": [],
   "source": [
    "result = Fido.search(a.Time(\"2021-05-23 11:00\", \"2021-05-23 11:20\"), \n",
    "                     a.Instrument(\"AIA\"), \n",
    "                     a.Wavelength(171*u.angstrom))"
   ]
  },
  {
   "cell_type": "code",
   "execution_count": null,
   "id": "103c51de",
   "metadata": {},
   "outputs": [],
   "source": [
    "result"
   ]
  },
  {
   "cell_type": "markdown",
   "id": "c97b5ddc",
   "metadata": {},
   "source": [
    "We can further specify this query by choosing the cadence (time-sampling) of the data we want to search for and download. This can be achieved by using the Sample attribute. Similar to the Wavelength attributes, this needs to be an astropy Quantity. Lets further specify the search above to only search for data with a cadence of 2 minutes."
   ]
  },
  {
   "cell_type": "code",
   "execution_count": null,
   "id": "77139e0a",
   "metadata": {},
   "outputs": [],
   "source": [
    "result = Fido.search(a.Time(\"2021-05-23 11:00\", \"2021-05-23 11:20\"), \n",
    "                     a.Instrument(\"AIA\"), \n",
    "                     a.Wavelength(171*u.angstrom),\n",
    "                     a.Sample(2*u.min))"
   ]
  },
  {
   "cell_type": "code",
   "execution_count": null,
   "id": "d0c88c09",
   "metadata": {},
   "outputs": [],
   "source": [
    "len(result[0])"
   ]
  },
  {
   "cell_type": "markdown",
   "id": "4d95eac0",
   "metadata": {},
   "source": [
    "## 1.3 Downloading the data\n",
    "\n",
    "Now we can show how data that is queried above can be downloaded. Once the data you have searched for (and filtered etc) is constructed into a query using `Fido.search`, you can then easily download them using `Fido.fetch`.\n",
    "\n",
    "The data is downloaded via asynchronous and parallel download streams (via parfive), and also allows for failed data downloads to be recognized so that files can be re-requested if not downloaded.\n",
    "\n",
    "Lets now look at how a `UnifiedResponse` from a `Fido.search` can be passed to `Fido.fetch` to download the data"
   ]
  },
  {
   "cell_type": "code",
   "execution_count": null,
   "id": "9837fa7a",
   "metadata": {},
   "outputs": [],
   "source": [
    "#files = Fido.fetch(result)"
   ]
  },
  {
   "cell_type": "markdown",
   "id": "7150bcb7",
   "metadata": {},
   "source": [
    "These files are downloaded to a local location set in the sunpy.config.file, which by default is ~/sunpy/data/. Fido.fetch returns a parfile.Results object which gives the path to where the files are downloaded to"
   ]
  },
  {
   "cell_type": "code",
   "execution_count": null,
   "id": "a67f72ef",
   "metadata": {},
   "outputs": [],
   "source": [
    "#print(files[0])"
   ]
  },
  {
   "cell_type": "markdown",
   "id": "b60cfe50",
   "metadata": {},
   "source": [
    "You can also define what directory you want the files to be saved to by passing the directory path to the path keyword in Fido.fetch. For example, I want to download these files to a local directory `./AIA/file`"
   ]
  },
  {
   "cell_type": "code",
   "execution_count": null,
   "id": "89a02dfc",
   "metadata": {},
   "outputs": [],
   "source": [
    "Fido.fetch(result[0, 0], path=\"./{instrument}/{file}\")"
   ]
  },
  {
   "cell_type": "markdown",
   "id": "e0e0527a",
   "metadata": {},
   "source": [
    "## 1. 4 More complex queries\n",
    "\n",
    "In addition to making a query to one client for one instrument, Fido allows the flexibility to search for data from multiple instruments, wavelengths, times etc, even when the data is being obtained through different clients.\n",
    "\n",
    "This query can be constructed by using the pipe | operator, which joins queries together just like the OR operator.\n",
    "\n",
    "Lets now make a query that searches for both GOES/XRS and AIA data over a particular time period"
   ]
  },
  {
   "cell_type": "code",
   "execution_count": null,
   "id": "431f761a",
   "metadata": {},
   "outputs": [],
   "source": [
    "result = Fido.search(a.Time(\"2011-06-07 06:00\", \"2011-06-07 12:00\"), \n",
    "                     a.Instrument.xrs  | (a.Instrument.aia & a.Wavelength(171*u.angstrom)))"
   ]
  },
  {
   "cell_type": "code",
   "execution_count": null,
   "id": "fa1681a4",
   "metadata": {},
   "outputs": [],
   "source": [
    "len(result)"
   ]
  },
  {
   "cell_type": "code",
   "execution_count": null,
   "id": "af2b62d9",
   "metadata": {},
   "outputs": [],
   "source": [
    "result"
   ]
  },
  {
   "cell_type": "code",
   "execution_count": null,
   "id": "7b2f8ee0",
   "metadata": {},
   "outputs": [],
   "source": [
    "result[0]"
   ]
  },
  {
   "cell_type": "code",
   "execution_count": null,
   "id": "c92723c7",
   "metadata": {},
   "outputs": [],
   "source": [
    "result.all_colnames"
   ]
  },
  {
   "cell_type": "markdown",
   "id": "2b688351",
   "metadata": {},
   "source": [
    "Lets download the GOES XRS data first"
   ]
  },
  {
   "cell_type": "code",
   "execution_count": null,
   "id": "2af6b11e",
   "metadata": {},
   "outputs": [],
   "source": [
    "Fido.fetch(result[0, 0], path=\"./\")"
   ]
  },
  {
   "cell_type": "markdown",
   "id": "29d7eade",
   "metadata": {},
   "source": [
    "Now lets say we only want to download one AIA file at a particular time, we can also search the table for certain conditions. Lets say we just want the file that closest to 2011-06-07 06:00. "
   ]
  },
  {
   "cell_type": "code",
   "execution_count": null,
   "id": "ad9496b4",
   "metadata": {},
   "outputs": [],
   "source": [
    "(np.abs(result[1][\"Start Time\"] - parse_time(\"2011-06-07 06:33\"))).argmin()"
   ]
  },
  {
   "cell_type": "code",
   "execution_count": null,
   "id": "ebfa5a23",
   "metadata": {},
   "outputs": [],
   "source": [
    "Fido.fetch(result[1, 165], path=\"./\")"
   ]
  },
  {
   "cell_type": "markdown",
   "id": "03b3ed37",
   "metadata": {},
   "source": [
    "\n",
    "## 1. 5 Using External Fido Clients \n",
    "\n",
    "Within sunpy core, we support a number of clients to common data providers. However, the Fido search interface is extensible such that external packages can write that their own clients that extend Fido in order to additional data sources. One such example is the `sunpy_soar` package which adds a client for the Solar Orbter Archive (SOAR).\n"
   ]
  },
  {
   "cell_type": "markdown",
   "id": "fd513b33",
   "metadata": {},
   "source": [
    "## SOAR archive searching using sunpy!"
   ]
  },
  {
   "cell_type": "code",
   "execution_count": null,
   "id": "7f334f6a",
   "metadata": {},
   "outputs": [],
   "source": [
    "import sunpy_soar\n",
    "from sunpy_soar.attrs import Product"
   ]
  },
  {
   "cell_type": "markdown",
   "id": "da9ef61e",
   "metadata": {},
   "source": [
    "Note that after importing sunpy_soar, the SOAR is now listed as a client that Fido will search."
   ]
  },
  {
   "cell_type": "code",
   "execution_count": null,
   "id": "d57142cb",
   "metadata": {},
   "outputs": [],
   "source": [
    "Fido"
   ]
  },
  {
   "cell_type": "code",
   "execution_count": null,
   "id": "5af5ee3f",
   "metadata": {},
   "outputs": [],
   "source": [
    "eui_query = Fido.search(a.Time(\"2022-03-28 11:00\", \"2022-03-28 14:00\"), \n",
    "                        a.soar.Product(\"EUI-FSI304-IMAGE\"), \n",
    "                        a.Level(2))"
   ]
  },
  {
   "cell_type": "code",
   "execution_count": null,
   "id": "808865b8",
   "metadata": {},
   "outputs": [],
   "source": [
    "eui_query"
   ]
  },
  {
   "cell_type": "markdown",
   "id": "aabc0f47",
   "metadata": {},
   "source": [
    "We can also search for other data products, for example the Solar Orbiter MAG"
   ]
  },
  {
   "cell_type": "code",
   "execution_count": null,
   "id": "c52c07b2",
   "metadata": {},
   "outputs": [],
   "source": [
    "mag_query = Fido.search(a.Time(\"2022-02-15\", \"2022-02-18\"), \n",
    "                        a.soar.Product(\"MAG-RTN-NORMAL-1-MINUTE\"), \n",
    "                       a.Level(2))"
   ]
  },
  {
   "cell_type": "code",
   "execution_count": null,
   "id": "fd58d4d4",
   "metadata": {},
   "outputs": [],
   "source": [
    "mag_query"
   ]
  },
  {
   "cell_type": "code",
   "execution_count": null,
   "id": "99863986",
   "metadata": {},
   "outputs": [],
   "source": [
    "ff = Fido.fetch(mag_query)"
   ]
  },
  {
   "cell_type": "code",
   "execution_count": null,
   "id": "1e5d867a",
   "metadata": {},
   "outputs": [],
   "source": []
  }
 ],
 "metadata": {
  "kernelspec": {
   "display_name": "Python 3 (ipykernel)",
   "language": "python",
   "name": "python3"
  },
  "language_info": {
   "codemirror_mode": {
    "name": "ipython",
    "version": 3
   },
   "file_extension": ".py",
   "mimetype": "text/x-python",
   "name": "python",
   "nbconvert_exporter": "python",
   "pygments_lexer": "ipython3",
   "version": "3.9.7"
  }
 },
 "nbformat": 4,
 "nbformat_minor": 5
}
