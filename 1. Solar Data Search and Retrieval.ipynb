{
 "cells": [
  {
   "cell_type": "markdown",
   "id": "f1710e8a",
   "metadata": {},
   "source": [
    "<div>\n",
    "<img src=\"./images/sunpy_logo.png\" width=\"500\" align=\"left\"/>\n",
    "</div>"
   ]
  },
  {
   "cell_type": "markdown",
   "id": "a13c3bfc",
   "metadata": {},
   "source": [
    "# 1. Searching and downloading data with sunpy\n",
    "\n",
    "\n",
    "\n",
    "In this notebook, an introduction to how you can search for and download data with sunpy. We will begin with an intoduction to `astropy.units` (which are used throughout the sunpy ecosystem), and then look about how to use `Fido` and build queries for data. In particular, this notebook will look at the following:\n",
    "\n",
    "1. Introduction to `astropy.units`\n",
    "2. Overview of `Fido` \n",
    "3. Constructing a data search query and inspecting it\n",
    "4. More complex queries and the HEK\n",
    "5. Extending Fido - the SOAR archive"
   ]
  },
  {
   "cell_type": "code",
   "execution_count": 1,
   "id": "f28cbfae",
   "metadata": {},
   "outputs": [],
   "source": [
    "import astropy.units as u\n",
    "from sunpy.net import Fido, attrs as a\n",
    "from sunpy.time import parse_time\n",
    "\n",
    "import numpy as np"
   ]
  },
  {
   "cell_type": "markdown",
   "id": "794e90d2",
   "metadata": {},
   "source": [
    "# 1.1 Astropy Units\n",
    "[`astropy.units`](https://docs.astropy.org/en/stable/units/) provides a means to deal with and handle numbers/arrays etc that have an associated physical quantity (e.g. km, seconds, Kelvin). Throughout SunPy, any physical input or outputs is an [`astropy.Quantity`](https://docs.astropy.org/en/stable/units/quantity.html#quantity). Lets look at how we can create and convert between astropy units. Above we have imported `astropy.units` as `u`"
   ]
  },
  {
   "cell_type": "code",
   "execution_count": 2,
   "id": "8e283ed4",
   "metadata": {},
   "outputs": [],
   "source": [
    "distance_in_km = 10*u.km"
   ]
  },
  {
   "cell_type": "code",
   "execution_count": 3,
   "id": "a7141e03",
   "metadata": {},
   "outputs": [
    {
     "data": {
      "text/latex": [
       "$10 \\; \\mathrm{km}$"
      ],
      "text/plain": [
       "<Quantity 10. km>"
      ]
     },
     "execution_count": 3,
     "metadata": {},
     "output_type": "execute_result"
    }
   ],
   "source": [
    "distance_in_km"
   ]
  },
  {
   "cell_type": "code",
   "execution_count": 4,
   "id": "a9aefb03",
   "metadata": {},
   "outputs": [
    {
     "data": {
      "text/latex": [
       "$\\mathrm{km}$"
      ],
      "text/plain": [
       "Unit(\"km\")"
      ]
     },
     "execution_count": 4,
     "metadata": {},
     "output_type": "execute_result"
    }
   ],
   "source": [
    "distance_in_km.unit"
   ]
  },
  {
   "cell_type": "code",
   "execution_count": 5,
   "id": "cb5ff37f",
   "metadata": {},
   "outputs": [
    {
     "data": {
      "text/plain": [
       "10.0"
      ]
     },
     "execution_count": 5,
     "metadata": {},
     "output_type": "execute_result"
    }
   ],
   "source": [
    "distance_in_km.value"
   ]
  },
  {
   "cell_type": "markdown",
   "id": "311d885f",
   "metadata": {},
   "source": [
    "We can convert between equivalent units"
   ]
  },
  {
   "cell_type": "code",
   "execution_count": 6,
   "id": "7122243b",
   "metadata": {},
   "outputs": [
    {
     "data": {
      "text/latex": [
       "$1000000 \\; \\mathrm{cm}$"
      ],
      "text/plain": [
       "<Quantity 1000000. cm>"
      ]
     },
     "execution_count": 6,
     "metadata": {},
     "output_type": "execute_result"
    }
   ],
   "source": [
    "distance_in_km.cgs"
   ]
  },
  {
   "cell_type": "code",
   "execution_count": 7,
   "id": "fd0e1145",
   "metadata": {},
   "outputs": [
    {
     "data": {
      "text/latex": [
       "$3.2407793 \\times 10^{-13} \\; \\mathrm{pc}$"
      ],
      "text/plain": [
       "<Quantity 3.24077929e-13 pc>"
      ]
     },
     "execution_count": 7,
     "metadata": {},
     "output_type": "execute_result"
    }
   ],
   "source": [
    "distance_in_km.to(u.parsec)"
   ]
  },
  {
   "cell_type": "code",
   "execution_count": 8,
   "id": "99eec9d7",
   "metadata": {},
   "outputs": [
    {
     "data": {
      "text/latex": [
       "$0.01 \\; \\mathrm{Mm}$"
      ],
      "text/plain": [
       "<Quantity 0.01 Mm>"
      ]
     },
     "execution_count": 8,
     "metadata": {},
     "output_type": "execute_result"
    }
   ],
   "source": [
    "distance_in_km.to(u.Mm)"
   ]
  },
  {
   "cell_type": "markdown",
   "id": "23159e01",
   "metadata": {},
   "source": [
    "However you can only convert between physical units that make sense for example:"
   ]
  },
  {
   "cell_type": "code",
   "execution_count": 9,
   "id": "ad864f56",
   "metadata": {},
   "outputs": [
    {
     "ename": "UnitConversionError",
     "evalue": "'km' (length) and 's' (time) are not convertible",
     "output_type": "error",
     "traceback": [
      "\u001b[0;31m---------------------------------------------------------------------------\u001b[0m",
      "\u001b[0;31mUnitConversionError\u001b[0m                       Traceback (most recent call last)",
      "Input \u001b[0;32mIn [9]\u001b[0m, in \u001b[0;36m<cell line: 1>\u001b[0;34m()\u001b[0m\n\u001b[0;32m----> 1\u001b[0m \u001b[43mdistance_in_km\u001b[49m\u001b[38;5;241;43m.\u001b[39;49m\u001b[43mto\u001b[49m\u001b[43m(\u001b[49m\u001b[43mu\u001b[49m\u001b[38;5;241;43m.\u001b[39;49m\u001b[43msecond\u001b[49m\u001b[43m)\u001b[49m\n",
      "File \u001b[0;32m~/opt/miniconda3/envs/sunpy-tutorial/lib/python3.9/site-packages/astropy/units/quantity.py:846\u001b[0m, in \u001b[0;36mQuantity.to\u001b[0;34m(self, unit, equivalencies, copy)\u001b[0m\n\u001b[1;32m    842\u001b[0m unit \u001b[38;5;241m=\u001b[39m Unit(unit)\n\u001b[1;32m    843\u001b[0m \u001b[38;5;28;01mif\u001b[39;00m copy:\n\u001b[1;32m    844\u001b[0m     \u001b[38;5;66;03m# Avoid using to_value to ensure that we make a copy. We also\u001b[39;00m\n\u001b[1;32m    845\u001b[0m     \u001b[38;5;66;03m# don't want to slow down this method (esp. the scalar case).\u001b[39;00m\n\u001b[0;32m--> 846\u001b[0m     value \u001b[38;5;241m=\u001b[39m \u001b[38;5;28;43mself\u001b[39;49m\u001b[38;5;241;43m.\u001b[39;49m\u001b[43m_to_value\u001b[49m\u001b[43m(\u001b[49m\u001b[43munit\u001b[49m\u001b[43m,\u001b[49m\u001b[43m \u001b[49m\u001b[43mequivalencies\u001b[49m\u001b[43m)\u001b[49m\n\u001b[1;32m    847\u001b[0m \u001b[38;5;28;01melse\u001b[39;00m:\n\u001b[1;32m    848\u001b[0m     \u001b[38;5;66;03m# to_value only copies if necessary\u001b[39;00m\n\u001b[1;32m    849\u001b[0m     value \u001b[38;5;241m=\u001b[39m \u001b[38;5;28mself\u001b[39m\u001b[38;5;241m.\u001b[39mto_value(unit, equivalencies)\n",
      "File \u001b[0;32m~/opt/miniconda3/envs/sunpy-tutorial/lib/python3.9/site-packages/astropy/units/quantity.py:800\u001b[0m, in \u001b[0;36mQuantity._to_value\u001b[0;34m(self, unit, equivalencies)\u001b[0m\n\u001b[1;32m    797\u001b[0m     equivalencies \u001b[38;5;241m=\u001b[39m \u001b[38;5;28mself\u001b[39m\u001b[38;5;241m.\u001b[39m_equivalencies\n\u001b[1;32m    798\u001b[0m \u001b[38;5;28;01mif\u001b[39;00m \u001b[38;5;129;01mnot\u001b[39;00m \u001b[38;5;28mself\u001b[39m\u001b[38;5;241m.\u001b[39mdtype\u001b[38;5;241m.\u001b[39mnames \u001b[38;5;129;01mor\u001b[39;00m \u001b[38;5;28misinstance\u001b[39m(\u001b[38;5;28mself\u001b[39m\u001b[38;5;241m.\u001b[39munit, StructuredUnit):\n\u001b[1;32m    799\u001b[0m     \u001b[38;5;66;03m# Standard path, let unit to do work.\u001b[39;00m\n\u001b[0;32m--> 800\u001b[0m     \u001b[38;5;28;01mreturn\u001b[39;00m \u001b[38;5;28;43mself\u001b[39;49m\u001b[38;5;241;43m.\u001b[39;49m\u001b[43munit\u001b[49m\u001b[38;5;241;43m.\u001b[39;49m\u001b[43mto\u001b[49m\u001b[43m(\u001b[49m\u001b[43munit\u001b[49m\u001b[43m,\u001b[49m\u001b[43m \u001b[49m\u001b[38;5;28;43mself\u001b[39;49m\u001b[38;5;241;43m.\u001b[39;49m\u001b[43mview\u001b[49m\u001b[43m(\u001b[49m\u001b[43mnp\u001b[49m\u001b[38;5;241;43m.\u001b[39;49m\u001b[43mndarray\u001b[49m\u001b[43m)\u001b[49m\u001b[43m,\u001b[49m\n\u001b[1;32m    801\u001b[0m \u001b[43m                        \u001b[49m\u001b[43mequivalencies\u001b[49m\u001b[38;5;241;43m=\u001b[39;49m\u001b[43mequivalencies\u001b[49m\u001b[43m)\u001b[49m\n\u001b[1;32m    803\u001b[0m \u001b[38;5;28;01melse\u001b[39;00m:\n\u001b[1;32m    804\u001b[0m     \u001b[38;5;66;03m# The .to() method of a simple unit cannot convert a structured\u001b[39;00m\n\u001b[1;32m    805\u001b[0m     \u001b[38;5;66;03m# dtype, so we work around it, by recursing.\u001b[39;00m\n\u001b[1;32m    806\u001b[0m     \u001b[38;5;66;03m# TODO: deprecate this?\u001b[39;00m\n\u001b[1;32m    807\u001b[0m     \u001b[38;5;66;03m# Convert simple to Structured on initialization?\u001b[39;00m\n\u001b[1;32m    808\u001b[0m     result \u001b[38;5;241m=\u001b[39m np\u001b[38;5;241m.\u001b[39mempty_like(\u001b[38;5;28mself\u001b[39m\u001b[38;5;241m.\u001b[39mview(np\u001b[38;5;241m.\u001b[39mndarray))\n",
      "File \u001b[0;32m~/opt/miniconda3/envs/sunpy-tutorial/lib/python3.9/site-packages/astropy/units/core.py:1130\u001b[0m, in \u001b[0;36mUnitBase.to\u001b[0;34m(self, other, value, equivalencies)\u001b[0m\n\u001b[1;32m   1128\u001b[0m     \u001b[38;5;28;01mreturn\u001b[39;00m UNITY\n\u001b[1;32m   1129\u001b[0m \u001b[38;5;28;01melse\u001b[39;00m:\n\u001b[0;32m-> 1130\u001b[0m     \u001b[38;5;28;01mreturn\u001b[39;00m \u001b[38;5;28;43mself\u001b[39;49m\u001b[38;5;241;43m.\u001b[39;49m\u001b[43m_get_converter\u001b[49m\u001b[43m(\u001b[49m\u001b[43mUnit\u001b[49m\u001b[43m(\u001b[49m\u001b[43mother\u001b[49m\u001b[43m)\u001b[49m\u001b[43m,\u001b[49m\n\u001b[1;32m   1131\u001b[0m \u001b[43m                               \u001b[49m\u001b[43mequivalencies\u001b[49m\u001b[38;5;241;43m=\u001b[39;49m\u001b[43mequivalencies\u001b[49m\u001b[43m)\u001b[49m(value)\n",
      "File \u001b[0;32m~/opt/miniconda3/envs/sunpy-tutorial/lib/python3.9/site-packages/astropy/units/core.py:1061\u001b[0m, in \u001b[0;36mUnitBase._get_converter\u001b[0;34m(self, other, equivalencies)\u001b[0m\n\u001b[1;32m   1058\u001b[0m             \u001b[38;5;28;01mexcept\u001b[39;00m \u001b[38;5;167;01mException\u001b[39;00m:\n\u001b[1;32m   1059\u001b[0m                 \u001b[38;5;28;01mpass\u001b[39;00m\n\u001b[0;32m-> 1061\u001b[0m \u001b[38;5;28;01mraise\u001b[39;00m exc\n",
      "File \u001b[0;32m~/opt/miniconda3/envs/sunpy-tutorial/lib/python3.9/site-packages/astropy/units/core.py:1046\u001b[0m, in \u001b[0;36mUnitBase._get_converter\u001b[0;34m(self, other, equivalencies)\u001b[0m\n\u001b[1;32m   1044\u001b[0m \u001b[38;5;66;03m# if that doesn't work, maybe we can do it with equivalencies?\u001b[39;00m\n\u001b[1;32m   1045\u001b[0m \u001b[38;5;28;01mtry\u001b[39;00m:\n\u001b[0;32m-> 1046\u001b[0m     \u001b[38;5;28;01mreturn\u001b[39;00m \u001b[38;5;28;43mself\u001b[39;49m\u001b[38;5;241;43m.\u001b[39;49m\u001b[43m_apply_equivalencies\u001b[49m\u001b[43m(\u001b[49m\n\u001b[1;32m   1047\u001b[0m \u001b[43m        \u001b[49m\u001b[38;5;28;43mself\u001b[39;49m\u001b[43m,\u001b[49m\u001b[43m \u001b[49m\u001b[43mother\u001b[49m\u001b[43m,\u001b[49m\u001b[43m \u001b[49m\u001b[38;5;28;43mself\u001b[39;49m\u001b[38;5;241;43m.\u001b[39;49m\u001b[43m_normalize_equivalencies\u001b[49m\u001b[43m(\u001b[49m\u001b[43mequivalencies\u001b[49m\u001b[43m)\u001b[49m\u001b[43m)\u001b[49m\n\u001b[1;32m   1048\u001b[0m \u001b[38;5;28;01mexcept\u001b[39;00m UnitsError \u001b[38;5;28;01mas\u001b[39;00m exc:\n\u001b[1;32m   1049\u001b[0m     \u001b[38;5;66;03m# Last hope: maybe other knows how to do it?\u001b[39;00m\n\u001b[1;32m   1050\u001b[0m     \u001b[38;5;66;03m# We assume the equivalencies have the unit itself as first item.\u001b[39;00m\n\u001b[1;32m   1051\u001b[0m     \u001b[38;5;66;03m# TODO: maybe better for other to have a `_back_converter` method?\u001b[39;00m\n\u001b[1;32m   1052\u001b[0m     \u001b[38;5;28;01mif\u001b[39;00m \u001b[38;5;28mhasattr\u001b[39m(other, \u001b[38;5;124m'\u001b[39m\u001b[38;5;124mequivalencies\u001b[39m\u001b[38;5;124m'\u001b[39m):\n",
      "File \u001b[0;32m~/opt/miniconda3/envs/sunpy-tutorial/lib/python3.9/site-packages/astropy/units/core.py:1022\u001b[0m, in \u001b[0;36mUnitBase._apply_equivalencies\u001b[0;34m(self, unit, other, equivalencies)\u001b[0m\n\u001b[1;32m   1019\u001b[0m unit_str \u001b[38;5;241m=\u001b[39m get_err_str(unit)\n\u001b[1;32m   1020\u001b[0m other_str \u001b[38;5;241m=\u001b[39m get_err_str(other)\n\u001b[0;32m-> 1022\u001b[0m \u001b[38;5;28;01mraise\u001b[39;00m UnitConversionError(\n\u001b[1;32m   1023\u001b[0m     \u001b[38;5;124mf\u001b[39m\u001b[38;5;124m\"\u001b[39m\u001b[38;5;132;01m{\u001b[39;00munit_str\u001b[38;5;132;01m}\u001b[39;00m\u001b[38;5;124m and \u001b[39m\u001b[38;5;132;01m{\u001b[39;00mother_str\u001b[38;5;132;01m}\u001b[39;00m\u001b[38;5;124m are not convertible\u001b[39m\u001b[38;5;124m\"\u001b[39m)\n",
      "\u001b[0;31mUnitConversionError\u001b[0m: 'km' (length) and 's' (time) are not convertible"
     ]
    }
   ],
   "source": [
    "distance_in_km.to(u.second)"
   ]
  },
  {
   "cell_type": "code",
   "execution_count": null,
   "id": "6b093418",
   "metadata": {},
   "outputs": [],
   "source": [
    "time_in_sec = 60*u.s"
   ]
  },
  {
   "cell_type": "code",
   "execution_count": null,
   "id": "69b713e2",
   "metadata": {},
   "outputs": [],
   "source": [
    "(distance_in_km/time_in_sec).unit"
   ]
  },
  {
   "cell_type": "markdown",
   "id": "14721904",
   "metadata": {},
   "source": [
    "## 1. 2 Overview of `Fido` Unified Downloader\n",
    "\n",
    "\n",
    "* [`Fido`](https://docs.sunpy.org/en/stable/guide/acquiring_data/fido.html#fido-guide) is sunpy's interface for searching and downloading solar physics data.\n",
    "\n",
    "* It offers a unified interface for searching and fetching data irrespective of the underlying client or webservice from where the data is obtained.\n",
    "\n",
    "* Offers a way to search and accesses multiple instruments and all available data providers in a single query.\n",
    "\n",
    "* It supplies a single, easy, consistent and *extendable* way to get most forms of solar physics data the community need \n",
    "\n",
    "Fido offers access to data available through:\n",
    "\n",
    " * **VSO**\n",
    " * **JSOC** (through `drms`)\n",
    " * **Individual data providers** from web accessible sources (http, ftp, etc)\n",
    " * **HEK**\n",
    " * **HELIO**\n",
    " \n",
    "As described here `Fido` provides access to many sources of data through different clients, these clients can be defined inside sunpy or in other packages. Lets print the current list of available clients within sunpy."
   ]
  },
  {
   "cell_type": "code",
   "execution_count": 10,
   "id": "469763e5",
   "metadata": {},
   "outputs": [
    {
     "data": {
      "text/html": [
       "<p>sunpy.net.Fido</p>\n",
       "<p>\n",
       "Fido is a unified data search and retrieval tool.\n",
       "\n",
       "It provides simultaneous access to a variety of online data sources, some\n",
       "cover multiple instruments and data products like the Virtual Solar\n",
       "Observatory and some are specific to a single source.\n",
       "\n",
       "For details of using `~sunpy.net.Fido` see :ref:`fido_guide`.\n",
       "\n",
       "</p>\n",
       "<table id=\"table4875464416\">\n",
       "<thead><tr><th>Client</th><th>Description</th></tr></thead>\n",
       "<tr><td>CDAWEBClient</td><td>Provides access to query and download from the Coordinated Data Analysis Web (CDAWeb).</td></tr>\n",
       "<tr><td>EVEClient</td><td>Provides access to Level 0CS Extreme ultraviolet Variability Experiment (EVE) data.</td></tr>\n",
       "<tr><td>GBMClient</td><td>Provides access to data from the Gamma-Ray Burst Monitor (GBM) instrument on board the Fermi satellite.</td></tr>\n",
       "<tr><td>XRSClient</td><td>Provides access to the GOES XRS fits files archive.</td></tr>\n",
       "<tr><td>SUVIClient</td><td>Provides access to data from the GOES Solar Ultraviolet Imager (SUVI).</td></tr>\n",
       "<tr><td>...</td><td>...</td></tr>\n",
       "<tr><td>NoRHClient</td><td>Provides access to the Nobeyama RadioHeliograph (NoRH) averaged correlation time series data.</td></tr>\n",
       "<tr><td>RHESSIClient</td><td>Provides access to the RHESSI observing summary time series data.</td></tr>\n",
       "<tr><td>HEKClient</td><td>Provides access to the Heliophysics Event Knowledgebase (HEK).</td></tr>\n",
       "<tr><td>HECClient</td><td>Provides access to the HELIO webservices.</td></tr>\n",
       "<tr><td>JSOCClient</td><td>Provides access to the JSOC Data Export service.</td></tr>\n",
       "<tr><td>VSOClient</td><td>Provides access to query and download from Virtual Solar Observatory (VSO).</td></tr>\n",
       "</table>\n",
       "Length = 16 rows"
      ],
      "text/plain": [
       "<sunpy.net.fido_factory.UnifiedDownloaderFactory object at 0x12299abb0>\n",
       "sunpy.net.Fido\n",
       "\n",
       "Fido is a unified data search and retrieval tool.\n",
       "\n",
       "It provides simultaneous access to a variety of online data sources, some\n",
       "cover multiple instruments and data products like the Virtual Solar\n",
       "Observatory and some are specific to a single source.\n",
       "\n",
       "For details of using `~sunpy.net.Fido` see :ref:`fido_guide`.\n",
       "\n",
       "\n",
       "   Client    ...\n",
       "------------ ...\n",
       "CDAWEBClient ...\n",
       "EVEClient    ...\n",
       "GBMClient    ...\n",
       "XRSClient    ...\n",
       "SUVIClient   ...\n",
       "...          ...\n",
       "NoRHClient   ...\n",
       "RHESSIClient ...\n",
       "HEKClient    ...\n",
       "HECClient    ...\n",
       "JSOCClient   ...\n",
       "VSOClient    ...\n",
       "Length = 16 rows"
      ]
     },
     "execution_count": 10,
     "metadata": {},
     "output_type": "execute_result"
    }
   ],
   "source": [
    "Fido"
   ]
  },
  {
   "cell_type": "markdown",
   "id": "fa91016b",
   "metadata": {},
   "source": [
    "### Using attributes to search for data with Fido\n",
    "\n",
    "Sunpy uses specified **attributes** to search for data using Fido. The range of these attributes is located in the `attrs` submodule. These `attr` parameters can be combined together to construct data search queries, such as searching over a certain time period, for data from a certain instrument with a certain wavelength etc.\n",
    "\n",
    "Different clients and provides will have client-specific attributes, but the core attributes are:\n",
    "\n",
    "* `a.Time`\n",
    "* `a.Instrument`\n",
    "* `a.Wavelength`\n",
    "\n",
    "\n",
    "Lets look at how these attributes work in more detail.\n",
    "\n",
    "First we can look at `a.Time`, which is used to specify the timerange of a query."
   ]
  },
  {
   "cell_type": "code",
   "execution_count": 11,
   "id": "c5031ee2",
   "metadata": {},
   "outputs": [
    {
     "data": {
      "text/plain": [
       "<sunpy.net.attrs.Time(2022-03-28 11:00:00.000, 2022-03-28 14:00:00.000)>"
      ]
     },
     "execution_count": 11,
     "metadata": {},
     "output_type": "execute_result"
    }
   ],
   "source": [
    "a.Time(\"2022-03-28 11:00\", \"2022-03-28 14:00\")"
   ]
  },
  {
   "cell_type": "markdown",
   "id": "ca089e11",
   "metadata": {},
   "source": [
    "We can inspect the instrument attribute to see what instrument `attrs` are currently supported through sunpy. Here we can see the instrument name (i.e. the name to be passed to the `a.Instrument` attribute, the client from which the data is available to access, and the full name of the instrument.)"
   ]
  },
  {
   "cell_type": "code",
   "execution_count": 12,
   "id": "7374a7ba",
   "metadata": {},
   "outputs": [
    {
     "data": {
      "text/html": [
       "<p>sunpy.net.attrs.Instrument</p>\n",
       "<p>\n",
       "Specifies the Instrument name for the search.\n",
       "</p>\n",
       "<table id=\"table4510638432\">\n",
       "<thead><tr><th>Attribute Name</th><th>Client</th><th>Full Name</th><th>Description</th></tr></thead>\n",
       "<tr><td>aia</td><td>VSO</td><td>AIA</td><td>Atmospheric Imaging Assembly</td></tr>\n",
       "<tr><td>bcs</td><td>VSO</td><td>BCS</td><td>Bragg Crystal Spectrometer</td></tr>\n",
       "<tr><td>be_continuum</td><td>VSO</td><td>BE-Continuum</td><td>INAF-OACT Barra Equatoriale Continuum Instrument</td></tr>\n",
       "<tr><td>be_halpha</td><td>VSO</td><td>BE-Halpha</td><td>INAF-OACT Barra Equatoriale Hα Instrument</td></tr>\n",
       "<tr><td>bigbear</td><td>VSO</td><td>Big Bear</td><td>Big Bear Solar Observatory, California TON and GONG+ sites</td></tr>\n",
       "<tr><td>caii</td><td>VSO</td><td>CAII</td><td>Kanzelhöhe Ca II k Instrument</td></tr>\n",
       "<tr><td>cds</td><td>VSO</td><td>CDS</td><td>Coronal Diagnostic Spectrometer</td></tr>\n",
       "<tr><td>celias</td><td>VSO</td><td>CELIAS</td><td>Charge, Element, and Isotope Analysis System</td></tr>\n",
       "<tr><td>cerrotololo</td><td>VSO</td><td>Cerro Tololo</td><td>Cerro Tololo, Chile GONG+ site</td></tr>\n",
       "<tr><td>chp</td><td>VSO</td><td>chp</td><td>Chromospheric Helium-I Imaging Photometer</td></tr>\n",
       "<tr><td>chrotel</td><td>VSO</td><td>ChroTel</td><td>Chromospheric Telescope</td></tr>\n",
       "<tr><td>climso</td><td>VSO</td><td>CLIMSO</td><td>Christian Latouche IMageur SOlaire</td></tr>\n",
       "<tr><td>cook</td><td>VSO</td><td>Cook</td><td>None</td></tr>\n",
       "<tr><td>costep</td><td>VSO</td><td>COSTEP</td><td>Comprehensive Suprathermal and Energetic Particle Analyzer</td></tr>\n",
       "<tr><td>cp</td><td>VSO</td><td>cp</td><td>Coronagraph/Polarimeter</td></tr>\n",
       "<tr><td>dpm</td><td>VSO</td><td>dpm</td><td>Digital Prominence Monitor</td></tr>\n",
       "<tr><td>eis</td><td>VSO</td><td>EIS</td><td>EUV Imaging Spectrometer</td></tr>\n",
       "<tr><td>eit</td><td>VSO</td><td>EIT</td><td>Extreme ultraviolet Imaging Telescope</td></tr>\n",
       "<tr><td>elteide</td><td>VSO</td><td>El Teide</td><td>Canary Islands GONG+ site</td></tr>\n",
       "<tr><td>erne</td><td>VSO</td><td>ERNE</td><td>Energetic and Relativistic Nuclei and Electron experiment</td></tr>\n",
       "<tr><td>eui</td><td>VSO</td><td>EUI</td><td>Extreme Ultravoilet Imager</td></tr>\n",
       "<tr><td>eve</td><td>EVE</td><td>EVE</td><td>Extreme ultraviolet Variability Experiment, which is part of the NASA Solar D...</td></tr>\n",
       "<tr><td>eve</td><td>VSO</td><td>EVE</td><td>Extreme Ultraviolet Variability Experiment</td></tr>\n",
       "<tr><td>film</td><td>VSO</td><td>FILM</td><td>Kanzelhöhe Hα Film Camera</td></tr>\n",
       "<tr><td>five_12_channelmagnetograph</td><td>VSO</td><td>512-channel magnetograph</td><td>512-channel Magnetograph</td></tr>\n",
       "<tr><td>foxsi</td><td>VSO</td><td>FOXSI</td><td>Focusing Optics X-ray Solar Imager</td></tr>\n",
       "<tr><td>gbm</td><td>GBM</td><td>GBM</td><td>Gamma-Ray Burst Monitor on board the Fermi satellite.</td></tr>\n",
       "<tr><td>goes</td><td>XRS</td><td>GOES</td><td>The Geostationary Operational Environmental Satellite Program.</td></tr>\n",
       "<tr><td>golf</td><td>VSO</td><td>GOLF</td><td>Global Oscillations at Low Frequencies</td></tr>\n",
       "<tr><td>gong</td><td>GONG</td><td>GONG</td><td>Global Oscillation Network Group.</td></tr>\n",
       "<tr><td>ha2</td><td>VSO</td><td>HA2</td><td>Kanzelhöhe Hα Patrol Instrument</td></tr>\n",
       "<tr><td>hi_c</td><td>VSO</td><td>Hi-C</td><td>High Resolution Coronal Imager (193 A)</td></tr>\n",
       "<tr><td>hi_c21</td><td>VSO</td><td>Hi-C21</td><td>High Resolution Coronal Imager 2.1 (172 A)</td></tr>\n",
       "<tr><td>hmi</td><td>VSO</td><td>HMI</td><td>Helioseismic and Magnetic Imager</td></tr>\n",
       "<tr><td>hxeclipse</td><td>VSO</td><td>HXECLIPSE</td><td>UCAR HAO Historical Eclipse Archive</td></tr>\n",
       "<tr><td>hxt</td><td>VSO</td><td>HXT</td><td>Hard X-Ray Telescope</td></tr>\n",
       "<tr><td>imax</td><td>VSO</td><td>IMaX</td><td>Imaging Magnetograph eXperiment</td></tr>\n",
       "<tr><td>impact</td><td>VSO</td><td>IMPACT</td><td>In-situ Measurements of Particles and CME Transients</td></tr>\n",
       "<tr><td>iris</td><td>VSO</td><td>IRIS</td><td>Interface Region Imaging Spectrograph</td></tr>\n",
       "<tr><td>isoon</td><td>VSO</td><td>ISOON</td><td>Improved Solar Observing Optical Network</td></tr>\n",
       "<tr><td>iss</td><td>VSO</td><td>ISS</td><td>None</td></tr>\n",
       "<tr><td>ivm</td><td>VSO</td><td>IVM</td><td>None</td></tr>\n",
       "<tr><td>k_cor</td><td>VSO</td><td>K-Cor</td><td>None</td></tr>\n",
       "<tr><td>kpdc</td><td>VSO</td><td>KPDC</td><td>Kanzelhöhe Photosphere Digital Camera</td></tr>\n",
       "<tr><td>lasco</td><td>VSO</td><td>LASCO</td><td>Large Angle and Spectrometric Coronagraph</td></tr>\n",
       "<tr><td>learmonth</td><td>VSO</td><td>Learmonth</td><td>Australian GONG+ site</td></tr>\n",
       "<tr><td>longwave_lobe_06</td><td>VSO</td><td>LONGWAVE-LOBE-06</td><td>Full longwave EUV observation of Sun with EUNIS (2006 flight)</td></tr>\n",
       "<tr><td>longwave_lobe_07</td><td>VSO</td><td>LONGWAVE-LOBE-07</td><td>Full longwave EUV observation of Sun with EUNIS (2007 flight)</td></tr>\n",
       "<tr><td>longwave_slit_06</td><td>VSO</td><td>LONGWAVE-SLIT-06</td><td>Full longwave EUV observation of Sun with EUNIS (trimmed/2006 flight)</td></tr>\n",
       "<tr><td>longwave_slit_07</td><td>VSO</td><td>LONGWAVE-SLIT-07</td><td>Full longwave EUV observation of Sun with EUNIS (trimmed/2007 flight)</td></tr>\n",
       "<tr><td>lyra</td><td>LYRA</td><td>LYRA</td><td>Lyman Alpha Radiometer is the solar UV radiometer on board Proba-2.</td></tr>\n",
       "<tr><td>maunaloa</td><td>VSO</td><td>Mauna Loa</td><td>Hawai&apos;ian GONG+ site</td></tr>\n",
       "<tr><td>mdi</td><td>VSO</td><td>MDI</td><td>Michelson Doppler Imager</td></tr>\n",
       "<tr><td>mees</td><td>VSO</td><td>MEES</td><td>Mees Solar Observatory Imaging Spectrograph on Haleakala, Maui</td></tr>\n",
       "<tr><td>mergedgong</td><td>VSO</td><td>MERGED GONG</td><td>None</td></tr>\n",
       "<tr><td>meudonspectroheliograph</td><td>VSO</td><td>Meudon Spectroheliograph</td><td>None</td></tr>\n",
       "<tr><td>mk4</td><td>VSO</td><td>mk4</td><td>Mk. IV coronagraph</td></tr>\n",
       "<tr><td>noaa_indices</td><td>NOAAIndices</td><td>NOAA-Indices</td><td>Recent Solar Indices of Observed Monthly Mean Values</td></tr>\n",
       "<tr><td>noaa_predict</td><td>NOAAPredict</td><td>NOAA-Predict</td><td>Predicted Sunspot Number And Radio Flux Values With Expected Ranges.</td></tr>\n",
       "<tr><td>norh</td><td>NoRH</td><td>NORH</td><td>Nobeyama Radio Heliograph is an imaging radio telescope at 17 or 34GHz locate...</td></tr>\n",
       "<tr><td>phoenix</td><td>VSO</td><td>PHOENIX</td><td>PHOENIX detector on flight #3 of FOXSI</td></tr>\n",
       "<tr><td>phoka</td><td>VSO</td><td>PHOKA</td><td>Kanzelhöhe Photoheliograph</td></tr>\n",
       "<tr><td>plastic</td><td>VSO</td><td>PLASTIC</td><td>PLasma And SupraThermal Ion Composition</td></tr>\n",
       "<tr><td>ptmc</td><td>VSO</td><td>PTMC</td><td>None</td></tr>\n",
       "<tr><td>rhessi</td><td>RHESSI</td><td>RHESSI</td><td>Reuven Ramaty High Energy Solar Spectroscopic Imager.</td></tr>\n",
       "<tr><td>rhessi</td><td>VSO</td><td>RHESSI</td><td>Reuven Ramaty High Energy Solar Spectroscopic Imager</td></tr>\n",
       "<tr><td>secchi</td><td>VSO</td><td>SECCHI</td><td>Sun Earth Connection Coronal and Heliospheric Investigation</td></tr>\n",
       "<tr><td>shortwave_lobe_06</td><td>VSO</td><td>SHORTWAVE-LOBE-06</td><td>Shortwave EUV observation of Sun with EUNIS (2006 flight)</td></tr>\n",
       "<tr><td>shortwave_lobe_07</td><td>VSO</td><td>SHORTWAVE-LOBE-07</td><td>Shortwave EUV observation of Sun with EUNIS (2007 flight)</td></tr>\n",
       "<tr><td>shortwave_slit_06</td><td>VSO</td><td>SHORTWAVE-SLIT-06</td><td>Shortwave EUV observation of Sun with EUNIS (trimmed/2006 flight)</td></tr>\n",
       "<tr><td>shortwave_slit_07</td><td>VSO</td><td>SHORTWAVE-SLIT-07</td><td>Shortwave EUV observation of Sun with EUNIS (trimmed/2007 flight)</td></tr>\n",
       "<tr><td>six_0_ftshg</td><td>VSO</td><td>60-ft SHG</td><td>60-foot Tower Spectroheliograph</td></tr>\n",
       "<tr><td>sj</td><td>VSO</td><td>SJ</td><td>Slit-Jaw</td></tr>\n",
       "<tr><td>solarftsspectrometer</td><td>VSO</td><td>solar fts spectrometer</td><td>Solar FTS Spectrometer</td></tr>\n",
       "<tr><td>soon</td><td>SRS</td><td>SOON</td><td>Solar Region Summary.</td></tr>\n",
       "<tr><td>sot</td><td>VSO</td><td>SOT</td><td>Solar Optical Telescope</td></tr>\n",
       "<tr><td>sp1</td><td>VSO</td><td>SP1</td><td>Spectropolarimeter1</td></tr>\n",
       "<tr><td>sp2</td><td>VSO</td><td>SP2</td><td>Spectropolarimeter2</td></tr>\n",
       "<tr><td>spectroheliograph</td><td>VSO</td><td>spectroheliograph</td><td>SpectroHeliograph</td></tr>\n",
       "<tr><td>spectromagnetograph</td><td>VSO</td><td>spectromagnetograph</td><td>SpectroMagnetograph</td></tr>\n",
       "<tr><td>srs_table</td><td>SRS</td><td>SRS-Table</td><td>Solar Region Summary.</td></tr>\n",
       "<tr><td>sufi</td><td>VSO</td><td>SuFI</td><td>Sunrise Filter Imager</td></tr>\n",
       "<tr><td>sumer</td><td>VSO</td><td>SUMER</td><td>Solar Ultraviolet Measurements of Emitted Radiation</td></tr>\n",
       "<tr><td>suvi</td><td>SUVI</td><td>SUVI</td><td>GOES Solar Ultraviolet Imager.</td></tr>\n",
       "<tr><td>suvi</td><td>VSO</td><td>SUVI</td><td>GOES-R Series Solar Ultraviolet Imager</td></tr>\n",
       "<tr><td>swan</td><td>VSO</td><td>SWAN</td><td>Solar Wind Anisotropies</td></tr>\n",
       "<tr><td>swap</td><td>VSO</td><td>SWAP</td><td>Sun Watcher using Active pixel system detector and image Processing</td></tr>\n",
       "<tr><td>swaves</td><td>VSO</td><td>SWAVES</td><td>STEREO/WAVES</td></tr>\n",
       "<tr><td>sxt</td><td>VSO</td><td>SXT</td><td>Soft X-Ray Telescope</td></tr>\n",
       "<tr><td>tm_1001</td><td>VSO</td><td>TM-1001</td><td>Kanzelhöhe Hα Pulnix TM-1001 Camera</td></tr>\n",
       "<tr><td>tm_1010</td><td>VSO</td><td>TM-1010</td><td>Kanzelhöhe Hα Pulnix TM-1010 Camera</td></tr>\n",
       "<tr><td>trace</td><td>VSO</td><td>TRACE</td><td>Transition Region And Coronal Explorer</td></tr>\n",
       "<tr><td>udaipur</td><td>VSO</td><td>Udaipur</td><td>Indian GONG+ site</td></tr>\n",
       "<tr><td>uvcs</td><td>VSO</td><td>UVCS</td><td>Ultraviolet Coronagraph Spectrometer</td></tr>\n",
       "<tr><td>vault_1999</td><td>VSO</td><td>VAULT-1999</td><td>Very High Angular Resolution Ultraviolet Telescope (1999 flight)</td></tr>\n",
       "<tr><td>vault_2002</td><td>VSO</td><td>VAULT-2002</td><td>Very High Angular Resolution Ultraviolet Telescope (2002 flight)</td></tr>\n",
       "<tr><td>vault_2014</td><td>VSO</td><td>VAULT-2014</td><td>Very High Angular Resolution Ultraviolet Telescope (2014 flight)</td></tr>\n",
       "<tr><td>virgo</td><td>VSO</td><td>VIRGO</td><td>Variability of Solar Irradiance and Gravity Oscillations</td></tr>\n",
       "<tr><td>vsm</td><td>VSO</td><td>vsm</td><td>Vector SpecroMagnetograph</td></tr>\n",
       "<tr><td>wbs</td><td>VSO</td><td>WBS</td><td>Wide Band Spectrometer</td></tr>\n",
       "<tr><td>wispr</td><td>VSO</td><td>WISPR</td><td>Wide-Field Imager for Solar Probe Plus</td></tr>\n",
       "<tr><td>x123</td><td>VSO</td><td>X123</td><td>X123 SXR Spectometer</td></tr>\n",
       "<tr><td>xrs</td><td>XRS</td><td>XRS</td><td>GOES X-ray Sensor</td></tr>\n",
       "</table>"
      ],
      "text/plain": [
       "<class 'sunpy.net.attrs.Instrument'>\n",
       "sunpy.net.attrs.Instrument\n",
       "\n",
       "Specifies the Instrument name for the search.\n",
       "\n",
       "       Attribute Name       ...\n",
       "--------------------------- ...\n",
       "aia                         ...\n",
       "bcs                         ...\n",
       "be_continuum                ...\n",
       "be_halpha                   ...\n",
       "bigbear                     ...\n",
       "caii                        ...\n",
       "cds                         ...\n",
       "celias                      ...\n",
       "cerrotololo                 ...\n",
       "chp                         ...\n",
       "chrotel                     ...\n",
       "climso                      ...\n",
       "cook                        ...\n",
       "costep                      ...\n",
       "cp                          ...\n",
       "dpm                         ...\n",
       "eis                         ...\n",
       "eit                         ...\n",
       "elteide                     ...\n",
       "erne                        ...\n",
       "eui                         ...\n",
       "eve                         ...\n",
       "eve                         ...\n",
       "film                        ...\n",
       "five_12_channelmagnetograph ...\n",
       "foxsi                       ...\n",
       "gbm                         ...\n",
       "goes                        ...\n",
       "golf                        ...\n",
       "gong                        ...\n",
       "ha2                         ...\n",
       "hi_c                        ...\n",
       "hi_c21                      ...\n",
       "hmi                         ...\n",
       "hxeclipse                   ...\n",
       "hxt                         ...\n",
       "imax                        ...\n",
       "impact                      ...\n",
       "iris                        ...\n",
       "isoon                       ...\n",
       "iss                         ...\n",
       "ivm                         ...\n",
       "k_cor                       ...\n",
       "kpdc                        ...\n",
       "lasco                       ...\n",
       "learmonth                   ...\n",
       "longwave_lobe_06            ...\n",
       "longwave_lobe_07            ...\n",
       "longwave_slit_06            ...\n",
       "longwave_slit_07            ...\n",
       "lyra                        ...\n",
       "maunaloa                    ...\n",
       "mdi                         ...\n",
       "mees                        ...\n",
       "mergedgong                  ...\n",
       "meudonspectroheliograph     ...\n",
       "mk4                         ...\n",
       "noaa_indices                ...\n",
       "noaa_predict                ...\n",
       "norh                        ...\n",
       "phoenix                     ...\n",
       "phoka                       ...\n",
       "plastic                     ...\n",
       "ptmc                        ...\n",
       "rhessi                      ...\n",
       "rhessi                      ...\n",
       "secchi                      ...\n",
       "shortwave_lobe_06           ...\n",
       "shortwave_lobe_07           ...\n",
       "shortwave_slit_06           ...\n",
       "shortwave_slit_07           ...\n",
       "six_0_ftshg                 ...\n",
       "sj                          ...\n",
       "solarftsspectrometer        ...\n",
       "soon                        ...\n",
       "sot                         ...\n",
       "sp1                         ...\n",
       "sp2                         ...\n",
       "spectroheliograph           ...\n",
       "spectromagnetograph         ...\n",
       "srs_table                   ...\n",
       "sufi                        ...\n",
       "sumer                       ...\n",
       "suvi                        ...\n",
       "suvi                        ...\n",
       "swan                        ...\n",
       "swap                        ...\n",
       "swaves                      ...\n",
       "sxt                         ...\n",
       "tm_1001                     ...\n",
       "tm_1010                     ...\n",
       "trace                       ...\n",
       "udaipur                     ...\n",
       "uvcs                        ...\n",
       "vault_1999                  ...\n",
       "vault_2002                  ...\n",
       "vault_2014                  ...\n",
       "virgo                       ...\n",
       "vsm                         ...\n",
       "wbs                         ...\n",
       "wispr                       ...\n",
       "x123                        ...\n",
       "xrs                         ..."
      ]
     },
     "execution_count": 12,
     "metadata": {},
     "output_type": "execute_result"
    }
   ],
   "source": [
    "a.Instrument"
   ]
  },
  {
   "cell_type": "markdown",
   "id": "03410afd",
   "metadata": {},
   "source": [
    "sunpy also now provides tab completion to auto-fill the attribute name"
   ]
  },
  {
   "cell_type": "code",
   "execution_count": 13,
   "id": "88dbb7e6",
   "metadata": {},
   "outputs": [
    {
     "data": {
      "text/plain": [
       "<sunpy.net.attrs.Instrument(EIT: Extreme ultraviolet Imaging Telescope) object at 0x122268c70>"
      ]
     },
     "execution_count": 13,
     "metadata": {},
     "output_type": "execute_result"
    }
   ],
   "source": [
    "a.Instrument.eit"
   ]
  },
  {
   "cell_type": "markdown",
   "id": "fbd8f459",
   "metadata": {},
   "source": [
    "To search for certain wavelengths, we need to specify the input as an `astropy.Quantity` which is a the combination of a value and an associated unit. This is something is universal in the sunpy stack - that every physical input/output is a `Quantity`."
   ]
  },
  {
   "cell_type": "code",
   "execution_count": 14,
   "id": "da857406",
   "metadata": {},
   "outputs": [
    {
     "data": {
      "text/plain": [
       "<sunpy.net.attrs.Wavelength(17.1, 17.1, 'Angstrom')>"
      ]
     },
     "execution_count": 14,
     "metadata": {},
     "output_type": "execute_result"
    }
   ],
   "source": [
    "a.Wavelength(17.1*u.angstrom)"
   ]
  },
  {
   "cell_type": "markdown",
   "id": "3913aee6",
   "metadata": {},
   "source": [
    "## 3. Constructing a search query\n",
    " ### A simple query\n",
    "\n",
    "Lets create a simple query to search for data from AIA over a particular time period"
   ]
  },
  {
   "cell_type": "code",
   "execution_count": 15,
   "id": "43e3aa55",
   "metadata": {},
   "outputs": [],
   "source": [
    "result = Fido.search(a.Time(\"2022-03-28 11:00\", \"2022-03-28 14:00\"), \n",
    "                     a.Instrument(\"AIA\"))"
   ]
  },
  {
   "cell_type": "code",
   "execution_count": 16,
   "id": "8eab1f86",
   "metadata": {},
   "outputs": [
    {
     "data": {
      "text/html": [
       "Results from 1 Provider:</br></br>174 Results from the VSOClient:</br><div><i>VSOQueryResponseTable length=174</i>\n",
       "<table id=\"table4875655536\" class=\"table-striped table-bordered table-condensed\">\n",
       "<thead><tr><th>Start Time</th><th>End Time</th><th>Source</th><th>Instrument</th><th>Wavelength</th><th>Provider</th><th>Physobs</th><th>Wavetype</th><th>Extent Width</th><th>Extent Length</th><th>Extent Type</th><th>Size</th><th>Extra Flags</th><th>Info</th></tr></thead>\n",
       "<thead><tr><th></th><th></th><th></th><th></th><th>Angstrom</th><th></th><th></th><th></th><th></th><th></th><th></th><th>Mibyte</th><th></th><th></th></tr></thead>\n",
       "<thead><tr><th>Time</th><th>Time</th><th>str3</th><th>str3</th><th>float64[2]</th><th>str4</th><th>str9</th><th>str6</th><th>str4</th><th>str4</th><th>str8</th><th>float64</th><th>str1</th><th>str106</th></tr></thead>\n",
       "<tr><td>2022-03-28 11:00:00.000</td><td>2022-03-28 11:09:13.000</td><td>SDO</td><td>AIA</td><td>335.0 .. 335.0</td><td>JSOC</td><td>intensity</td><td>NARROW</td><td>4096</td><td>4096</td><td>FULLDISK</td><td>3038.47656</td><td>S</td><td>AIA level 1, 4096x4096 [47 records] [0 eclipse] [0 darks] [2.901 to 2.901 exposure] [100.00 avg. percentd]</td></tr>\n",
       "<tr><td>2022-03-28 11:00:04.000</td><td>2022-03-28 11:09:17.000</td><td>SDO</td><td>AIA</td><td>193.0 .. 193.0</td><td>JSOC</td><td>intensity</td><td>NARROW</td><td>4096</td><td>4096</td><td>FULLDISK</td><td>3038.47656</td><td>S</td><td>AIA level 1, 4096x4096 [47 records] [0 eclipse] [0 darks] [2.000 to 2.000 exposure] [100.00 avg. percentd]</td></tr>\n",
       "<tr><td>2022-03-28 11:00:05.000</td><td>2022-03-28 11:00:06.000</td><td>SDO</td><td>AIA</td><td>4500.0 .. 4500.0</td><td>JSOC</td><td>intensity</td><td>NARROW</td><td>4096</td><td>4096</td><td>FULLDISK</td><td>64.64844</td><td>S</td><td>AIA level 1, 4096x4096 [0.300 exposure] [100.00 percentd]</td></tr>\n",
       "<tr><td>2022-03-28 11:00:05.000</td><td>2022-03-28 11:09:18.000</td><td>SDO</td><td>AIA</td><td>304.0 .. 304.0</td><td>JSOC</td><td>intensity</td><td>NARROW</td><td>4096</td><td>4096</td><td>FULLDISK</td><td>3038.47656</td><td>S</td><td>AIA level 1, 4096x4096 [47 records] [0 eclipse] [0 darks] [2.902 to 2.902 exposure] [100.00 avg. percentd]</td></tr>\n",
       "<tr><td>2022-03-28 11:00:06.000</td><td>2022-03-28 11:09:19.000</td><td>SDO</td><td>AIA</td><td>131.0 .. 131.0</td><td>JSOC</td><td>intensity</td><td>NARROW</td><td>4096</td><td>4096</td><td>FULLDISK</td><td>3038.47656</td><td>S</td><td>AIA level 1, 4096x4096 [47 records] [0 eclipse] [0 darks] [2.901 to 2.901 exposure] [100.00 avg. percentd]</td></tr>\n",
       "<tr><td>2022-03-28 11:00:09.000</td><td>2022-03-28 11:09:22.000</td><td>SDO</td><td>AIA</td><td>171.0 .. 171.0</td><td>JSOC</td><td>intensity</td><td>NARROW</td><td>4096</td><td>4096</td><td>FULLDISK</td><td>3038.47656</td><td>S</td><td>AIA level 1, 4096x4096 [47 records] [0 eclipse] [0 darks] [2.000 to 2.000 exposure] [100.00 avg. percentd]</td></tr>\n",
       "<tr><td>2022-03-28 11:00:09.000</td><td>2022-03-28 11:09:10.000</td><td>SDO</td><td>AIA</td><td>211.0 .. 211.0</td><td>JSOC</td><td>intensity</td><td>NARROW</td><td>4096</td><td>4096</td><td>FULLDISK</td><td>2973.82812</td><td>S</td><td>AIA level 1, 4096x4096 [46 records] [0 eclipse] [0 darks] [2.901 to 2.901 exposure] [100.00 avg. percentd]</td></tr>\n",
       "<tr><td>2022-03-28 11:00:11.000</td><td>2022-03-28 11:09:12.000</td><td>SDO</td><td>AIA</td><td>94.0 .. 94.0</td><td>JSOC</td><td>intensity</td><td>NARROW</td><td>4096</td><td>4096</td><td>FULLDISK</td><td>2973.82812</td><td>S</td><td>AIA level 1, 4096x4096 [46 records] [0 eclipse] [0 darks] [2.901 to 2.901 exposure] [100.00 avg. percentd]</td></tr>\n",
       "<tr><td>2022-03-28 11:00:14.000</td><td>2022-03-28 11:09:03.000</td><td>SDO</td><td>AIA</td><td>1600.0 .. 1600.0</td><td>JSOC</td><td>intensity</td><td>NARROW</td><td>4096</td><td>4096</td><td>FULLDISK</td><td>1486.91406</td><td>S</td><td>AIA level 1, 4096x4096 [23 records] [0 eclipse] [0 darks] [2.901 to 2.901 exposure] [100.00 avg. percentd]</td></tr>\n",
       "<tr><td>2022-03-28 11:00:28.000</td><td>2022-03-28 11:09:17.000</td><td>SDO</td><td>AIA</td><td>1700.0 .. 1700.0</td><td>JSOC</td><td>intensity</td><td>NARROW</td><td>4096</td><td>4096</td><td>FULLDISK</td><td>1486.91406</td><td>S</td><td>AIA level 1, 4096x4096 [23 records] [0 eclipse] [0 darks] [0.988 to 0.988 exposure] [100.00 avg. percentd]</td></tr>\n",
       "<tr><td>2022-03-28 11:09:21.000</td><td>2022-03-28 11:19:10.000</td><td>SDO</td><td>AIA</td><td>211.0 .. 211.0</td><td>JSOC</td><td>intensity</td><td>NARROW</td><td>4096</td><td>4096</td><td>FULLDISK</td><td>3232.42188</td><td>S</td><td>AIA level 1, 4096x4096 [50 records] [0 eclipse] [0 darks] [2.901 to 2.901 exposure] [100.00 avg. percentd]</td></tr>\n",
       "<tr><td>2022-03-28 11:09:23.000</td><td>2022-03-28 11:19:12.000</td><td>SDO</td><td>AIA</td><td>94.0 .. 94.0</td><td>JSOC</td><td>intensity</td><td>NARROW</td><td>4096</td><td>4096</td><td>FULLDISK</td><td>3232.42188</td><td>S</td><td>AIA level 1, 4096x4096 [50 records] [0 eclipse] [0 darks] [2.901 to 2.901 exposure] [100.00 avg. percentd]</td></tr>\n",
       "<tr><td>2022-03-28 11:09:24.000</td><td>2022-03-28 11:19:13.000</td><td>SDO</td><td>AIA</td><td>335.0 .. 335.0</td><td>JSOC</td><td>intensity</td><td>NARROW</td><td>4096</td><td>4096</td><td>FULLDISK</td><td>3232.42188</td><td>S</td><td>AIA level 1, 4096x4096 [50 records] [0 eclipse] [0 darks] [2.901 to 2.901 exposure] [100.00 avg. percentd]</td></tr>\n",
       "<tr><td>...</td><td>...</td><td>...</td><td>...</td><td>...</td><td>...</td><td>...</td><td>...</td><td>...</td><td>...</td><td>...</td><td>...</td><td>...</td><td>...</td></tr>\n",
       "<tr><td>2022-03-28 13:49:29.000</td><td>2022-03-28 13:59:18.000</td><td>SDO</td><td>AIA</td><td>304.0 .. 304.0</td><td>JSOC</td><td>intensity</td><td>NARROW</td><td>4096</td><td>4096</td><td>FULLDISK</td><td>3232.42188</td><td>S</td><td>AIA level 1, 4096x4096 [50 records] [0 eclipse] [0 darks] [2.902 to 2.902 exposure] [100.00 avg. percentd]</td></tr>\n",
       "<tr><td>2022-03-28 13:49:30.000</td><td>2022-03-28 13:59:19.000</td><td>SDO</td><td>AIA</td><td>131.0 .. 131.0</td><td>JSOC</td><td>intensity</td><td>NARROW</td><td>4096</td><td>4096</td><td>FULLDISK</td><td>3232.42188</td><td>S</td><td>AIA level 1, 4096x4096 [50 records] [0 eclipse] [0 darks] [2.901 to 2.901 exposure] [100.00 avg. percentd]</td></tr>\n",
       "<tr><td>2022-03-28 13:49:33.000</td><td>2022-03-28 13:59:22.000</td><td>SDO</td><td>AIA</td><td>171.0 .. 171.0</td><td>JSOC</td><td>intensity</td><td>NARROW</td><td>4096</td><td>4096</td><td>FULLDISK</td><td>3232.42188</td><td>S</td><td>AIA level 1, 4096x4096 [50 records] [0 eclipse] [0 darks] [2.000 to 2.000 exposure] [100.00 avg. percentd]</td></tr>\n",
       "<tr><td>2022-03-28 13:49:40.000</td><td>2022-03-28 13:59:17.000</td><td>SDO</td><td>AIA</td><td>1700.0 .. 1700.0</td><td>JSOC</td><td>intensity</td><td>NARROW</td><td>4096</td><td>4096</td><td>FULLDISK</td><td>1616.21094</td><td>S</td><td>AIA level 1, 4096x4096 [25 records] [0 eclipse] [0 darks] [0.988 to 0.988 exposure] [100.00 avg. percentd]</td></tr>\n",
       "<tr><td>2022-03-28 13:59:21.000</td><td>2022-03-28 13:59:58.000</td><td>SDO</td><td>AIA</td><td>211.0 .. 211.0</td><td>JSOC</td><td>intensity</td><td>NARROW</td><td>4096</td><td>4096</td><td>FULLDISK</td><td>258.59375</td><td>S</td><td>AIA level 1, 4096x4096 [4 records] [0 eclipse] [0 darks] [2.901 to 2.901 exposure] [100.00 avg. percentd]</td></tr>\n",
       "<tr><td>2022-03-28 13:59:23.000</td><td>2022-03-28 14:00:00.000</td><td>SDO</td><td>AIA</td><td>94.0 .. 94.0</td><td>JSOC</td><td>intensity</td><td>NARROW</td><td>4096</td><td>4096</td><td>FULLDISK</td><td>258.59375</td><td>S</td><td>AIA level 1, 4096x4096 [4 records] [0 eclipse] [0 darks] [2.901 to 2.901 exposure] [100.00 avg. percentd]</td></tr>\n",
       "<tr><td>2022-03-28 13:59:24.000</td><td>2022-03-28 14:00:01.000</td><td>SDO</td><td>AIA</td><td>335.0 .. 335.0</td><td>JSOC</td><td>intensity</td><td>NARROW</td><td>4096</td><td>4096</td><td>FULLDISK</td><td>258.59375</td><td>S</td><td>AIA level 1, 4096x4096 [4 records] [0 eclipse] [0 darks] [2.901 to 2.901 exposure] [100.00 avg. percentd]</td></tr>\n",
       "<tr><td>2022-03-28 13:59:26.000</td><td>2022-03-28 13:59:51.000</td><td>SDO</td><td>AIA</td><td>1600.0 .. 1600.0</td><td>JSOC</td><td>intensity</td><td>NARROW</td><td>4096</td><td>4096</td><td>FULLDISK</td><td>129.29688</td><td>S</td><td>AIA level 1, 4096x4096 [2 records] [0 eclipse] [0 darks] [2.901 to 2.901 exposure] [100.00 avg. percentd]</td></tr>\n",
       "<tr><td>2022-03-28 13:59:28.000</td><td>2022-03-28 13:59:53.000</td><td>SDO</td><td>AIA</td><td>193.0 .. 193.0</td><td>JSOC</td><td>intensity</td><td>NARROW</td><td>4096</td><td>4096</td><td>FULLDISK</td><td>193.94531</td><td>S</td><td>AIA level 1, 4096x4096 [3 records] [0 eclipse] [0 darks] [2.000 to 2.000 exposure] [100.00 avg. percentd]</td></tr>\n",
       "<tr><td>2022-03-28 13:59:29.000</td><td>2022-03-28 13:59:54.000</td><td>SDO</td><td>AIA</td><td>304.0 .. 304.0</td><td>JSOC</td><td>intensity</td><td>NARROW</td><td>4096</td><td>4096</td><td>FULLDISK</td><td>193.94531</td><td>S</td><td>AIA level 1, 4096x4096 [3 records] [0 eclipse] [0 darks] [2.902 to 2.902 exposure] [100.00 avg. percentd]</td></tr>\n",
       "<tr><td>2022-03-28 13:59:30.000</td><td>2022-03-28 13:59:55.000</td><td>SDO</td><td>AIA</td><td>131.0 .. 131.0</td><td>JSOC</td><td>intensity</td><td>NARROW</td><td>4096</td><td>4096</td><td>FULLDISK</td><td>193.94531</td><td>S</td><td>AIA level 1, 4096x4096 [3 records] [0 eclipse] [0 darks] [2.901 to 2.901 exposure] [100.00 avg. percentd]</td></tr>\n",
       "<tr><td>2022-03-28 13:59:33.000</td><td>2022-03-28 13:59:58.000</td><td>SDO</td><td>AIA</td><td>171.0 .. 171.0</td><td>JSOC</td><td>intensity</td><td>NARROW</td><td>4096</td><td>4096</td><td>FULLDISK</td><td>193.94531</td><td>S</td><td>AIA level 1, 4096x4096 [3 records] [0 eclipse] [0 darks] [2.000 to 2.000 exposure] [100.00 avg. percentd]</td></tr>\n",
       "<tr><td>2022-03-28 13:59:40.000</td><td>2022-03-28 13:59:41.000</td><td>SDO</td><td>AIA</td><td>1700.0 .. 1700.0</td><td>JSOC</td><td>intensity</td><td>NARROW</td><td>4096</td><td>4096</td><td>FULLDISK</td><td>64.64844</td><td>S</td><td>AIA level 1, 4096x4096 [0.988 exposure] [100.00 percentd]</td></tr>\n",
       "</table></div></br>"
      ],
      "text/plain": [
       "<sunpy.net.fido_factory.UnifiedResponse object at 0x12433f070>\n",
       "Results from 1 Provider:\n",
       "\n",
       "174 Results from the VSOClient:\n",
       "Source: http://vso.stanford.edu/cgi-bin/search\n",
       "Total estimated size: 488.147 Gbyte\n",
       "\n",
       "       Start Time       ...\n",
       "                        ...\n",
       "----------------------- ...\n",
       "2022-03-28 11:00:00.000 ...\n",
       "2022-03-28 11:00:04.000 ...\n",
       "2022-03-28 11:00:05.000 ...\n",
       "2022-03-28 11:00:05.000 ...\n",
       "2022-03-28 11:00:06.000 ...\n",
       "2022-03-28 11:00:09.000 ...\n",
       "2022-03-28 11:00:09.000 ...\n",
       "2022-03-28 11:00:11.000 ...\n",
       "2022-03-28 11:00:14.000 ...\n",
       "2022-03-28 11:00:28.000 ...\n",
       "2022-03-28 11:09:21.000 ...\n",
       "2022-03-28 11:09:23.000 ...\n",
       "2022-03-28 11:09:24.000 ...\n",
       "                    ... ...\n",
       "2022-03-28 13:49:28.000 ...\n",
       "2022-03-28 13:49:29.000 ...\n",
       "2022-03-28 13:49:30.000 ...\n",
       "2022-03-28 13:49:33.000 ...\n",
       "2022-03-28 13:49:40.000 ...\n",
       "2022-03-28 13:59:21.000 ...\n",
       "2022-03-28 13:59:23.000 ...\n",
       "2022-03-28 13:59:24.000 ...\n",
       "2022-03-28 13:59:26.000 ...\n",
       "2022-03-28 13:59:28.000 ...\n",
       "2022-03-28 13:59:29.000 ...\n",
       "2022-03-28 13:59:30.000 ...\n",
       "2022-03-28 13:59:33.000 ...\n",
       "2022-03-28 13:59:40.000 ...\n",
       "Length = 174 rows\n"
      ]
     },
     "execution_count": 16,
     "metadata": {},
     "output_type": "execute_result"
    }
   ],
   "source": [
    "result"
   ]
  },
  {
   "cell_type": "markdown",
   "id": "793849e1",
   "metadata": {},
   "source": [
    "Now lets make our query a bit more specific, say, say we only want one wavelength band from AIA. This can be achieved by specifying the `Wavelength` attribute within the search. The `a.Wavelength` attribute is passed as an `astropy.Quantity`:"
   ]
  },
  {
   "cell_type": "code",
   "execution_count": 17,
   "id": "e0f7f04f",
   "metadata": {},
   "outputs": [],
   "source": [
    "result = Fido.search(a.Time(\"2022-03-28 11:00\", \"2022-03-28 14:00\"), \n",
    "                     a.Instrument(\"AIA\"), \n",
    "                     a.Wavelength(304*u.angstrom))"
   ]
  },
  {
   "cell_type": "code",
   "execution_count": 18,
   "id": "c0762672",
   "metadata": {},
   "outputs": [
    {
     "data": {
      "text/html": [
       "Results from 1 Provider:</br></br>900 Results from the VSOClient:</br><div><i>VSOQueryResponseTable length=900</i>\n",
       "<table id=\"table4907961840\" class=\"table-striped table-bordered table-condensed\">\n",
       "<thead><tr><th>Start Time</th><th>End Time</th><th>Source</th><th>Instrument</th><th>Wavelength</th><th>Provider</th><th>Physobs</th><th>Wavetype</th><th>Extent Width</th><th>Extent Length</th><th>Extent Type</th><th>Size</th><th>Info</th></tr></thead>\n",
       "<thead><tr><th></th><th></th><th></th><th></th><th>Angstrom</th><th></th><th></th><th></th><th></th><th></th><th></th><th>Mibyte</th><th></th></tr></thead>\n",
       "<thead><tr><th>Time</th><th>Time</th><th>str3</th><th>str3</th><th>float64[2]</th><th>str4</th><th>str9</th><th>str6</th><th>str4</th><th>str4</th><th>str8</th><th>float64</th><th>str57</th></tr></thead>\n",
       "<tr><td>2022-03-28 11:00:05.000</td><td>2022-03-28 11:00:06.000</td><td>SDO</td><td>AIA</td><td>304.0 .. 304.0</td><td>JSOC</td><td>intensity</td><td>NARROW</td><td>4096</td><td>4096</td><td>FULLDISK</td><td>64.64844</td><td>AIA level 1, 4096x4096 [2.902 exposure] [100.00 percentd]</td></tr>\n",
       "<tr><td>2022-03-28 11:00:17.000</td><td>2022-03-28 11:00:18.000</td><td>SDO</td><td>AIA</td><td>304.0 .. 304.0</td><td>JSOC</td><td>intensity</td><td>NARROW</td><td>4096</td><td>4096</td><td>FULLDISK</td><td>64.64844</td><td>AIA level 1, 4096x4096 [2.902 exposure] [100.00 percentd]</td></tr>\n",
       "<tr><td>2022-03-28 11:00:29.000</td><td>2022-03-28 11:00:30.000</td><td>SDO</td><td>AIA</td><td>304.0 .. 304.0</td><td>JSOC</td><td>intensity</td><td>NARROW</td><td>4096</td><td>4096</td><td>FULLDISK</td><td>64.64844</td><td>AIA level 1, 4096x4096 [2.902 exposure] [100.00 percentd]</td></tr>\n",
       "<tr><td>2022-03-28 11:00:41.000</td><td>2022-03-28 11:00:42.000</td><td>SDO</td><td>AIA</td><td>304.0 .. 304.0</td><td>JSOC</td><td>intensity</td><td>NARROW</td><td>4096</td><td>4096</td><td>FULLDISK</td><td>64.64844</td><td>AIA level 1, 4096x4096 [2.902 exposure] [100.00 percentd]</td></tr>\n",
       "<tr><td>2022-03-28 11:00:53.000</td><td>2022-03-28 11:00:54.000</td><td>SDO</td><td>AIA</td><td>304.0 .. 304.0</td><td>JSOC</td><td>intensity</td><td>NARROW</td><td>4096</td><td>4096</td><td>FULLDISK</td><td>64.64844</td><td>AIA level 1, 4096x4096 [2.902 exposure] [100.00 percentd]</td></tr>\n",
       "<tr><td>2022-03-28 11:01:05.000</td><td>2022-03-28 11:01:06.000</td><td>SDO</td><td>AIA</td><td>304.0 .. 304.0</td><td>JSOC</td><td>intensity</td><td>NARROW</td><td>4096</td><td>4096</td><td>FULLDISK</td><td>64.64844</td><td>AIA level 1, 4096x4096 [2.902 exposure] [100.00 percentd]</td></tr>\n",
       "<tr><td>2022-03-28 11:01:17.000</td><td>2022-03-28 11:01:18.000</td><td>SDO</td><td>AIA</td><td>304.0 .. 304.0</td><td>JSOC</td><td>intensity</td><td>NARROW</td><td>4096</td><td>4096</td><td>FULLDISK</td><td>64.64844</td><td>AIA level 1, 4096x4096 [2.902 exposure] [100.00 percentd]</td></tr>\n",
       "<tr><td>2022-03-28 11:01:29.000</td><td>2022-03-28 11:01:30.000</td><td>SDO</td><td>AIA</td><td>304.0 .. 304.0</td><td>JSOC</td><td>intensity</td><td>NARROW</td><td>4096</td><td>4096</td><td>FULLDISK</td><td>64.64844</td><td>AIA level 1, 4096x4096 [2.902 exposure] [100.00 percentd]</td></tr>\n",
       "<tr><td>2022-03-28 11:01:41.000</td><td>2022-03-28 11:01:42.000</td><td>SDO</td><td>AIA</td><td>304.0 .. 304.0</td><td>JSOC</td><td>intensity</td><td>NARROW</td><td>4096</td><td>4096</td><td>FULLDISK</td><td>64.64844</td><td>AIA level 1, 4096x4096 [2.902 exposure] [100.00 percentd]</td></tr>\n",
       "<tr><td>2022-03-28 11:01:53.000</td><td>2022-03-28 11:01:54.000</td><td>SDO</td><td>AIA</td><td>304.0 .. 304.0</td><td>JSOC</td><td>intensity</td><td>NARROW</td><td>4096</td><td>4096</td><td>FULLDISK</td><td>64.64844</td><td>AIA level 1, 4096x4096 [2.902 exposure] [100.00 percentd]</td></tr>\n",
       "<tr><td>2022-03-28 11:02:05.000</td><td>2022-03-28 11:02:06.000</td><td>SDO</td><td>AIA</td><td>304.0 .. 304.0</td><td>JSOC</td><td>intensity</td><td>NARROW</td><td>4096</td><td>4096</td><td>FULLDISK</td><td>64.64844</td><td>AIA level 1, 4096x4096 [2.902 exposure] [100.00 percentd]</td></tr>\n",
       "<tr><td>2022-03-28 11:02:17.000</td><td>2022-03-28 11:02:18.000</td><td>SDO</td><td>AIA</td><td>304.0 .. 304.0</td><td>JSOC</td><td>intensity</td><td>NARROW</td><td>4096</td><td>4096</td><td>FULLDISK</td><td>64.64844</td><td>AIA level 1, 4096x4096 [2.902 exposure] [100.00 percentd]</td></tr>\n",
       "<tr><td>2022-03-28 11:02:29.000</td><td>2022-03-28 11:02:30.000</td><td>SDO</td><td>AIA</td><td>304.0 .. 304.0</td><td>JSOC</td><td>intensity</td><td>NARROW</td><td>4096</td><td>4096</td><td>FULLDISK</td><td>64.64844</td><td>AIA level 1, 4096x4096 [2.902 exposure] [100.00 percentd]</td></tr>\n",
       "<tr><td>...</td><td>...</td><td>...</td><td>...</td><td>...</td><td>...</td><td>...</td><td>...</td><td>...</td><td>...</td><td>...</td><td>...</td><td>...</td></tr>\n",
       "<tr><td>2022-03-28 13:57:29.000</td><td>2022-03-28 13:57:30.000</td><td>SDO</td><td>AIA</td><td>304.0 .. 304.0</td><td>JSOC</td><td>intensity</td><td>NARROW</td><td>4096</td><td>4096</td><td>FULLDISK</td><td>64.64844</td><td>AIA level 1, 4096x4096 [2.902 exposure] [100.00 percentd]</td></tr>\n",
       "<tr><td>2022-03-28 13:57:41.000</td><td>2022-03-28 13:57:42.000</td><td>SDO</td><td>AIA</td><td>304.0 .. 304.0</td><td>JSOC</td><td>intensity</td><td>NARROW</td><td>4096</td><td>4096</td><td>FULLDISK</td><td>64.64844</td><td>AIA level 1, 4096x4096 [2.902 exposure] [100.00 percentd]</td></tr>\n",
       "<tr><td>2022-03-28 13:57:53.000</td><td>2022-03-28 13:57:54.000</td><td>SDO</td><td>AIA</td><td>304.0 .. 304.0</td><td>JSOC</td><td>intensity</td><td>NARROW</td><td>4096</td><td>4096</td><td>FULLDISK</td><td>64.64844</td><td>AIA level 1, 4096x4096 [2.902 exposure] [100.00 percentd]</td></tr>\n",
       "<tr><td>2022-03-28 13:58:05.000</td><td>2022-03-28 13:58:06.000</td><td>SDO</td><td>AIA</td><td>304.0 .. 304.0</td><td>JSOC</td><td>intensity</td><td>NARROW</td><td>4096</td><td>4096</td><td>FULLDISK</td><td>64.64844</td><td>AIA level 1, 4096x4096 [2.902 exposure] [100.00 percentd]</td></tr>\n",
       "<tr><td>2022-03-28 13:58:17.000</td><td>2022-03-28 13:58:18.000</td><td>SDO</td><td>AIA</td><td>304.0 .. 304.0</td><td>JSOC</td><td>intensity</td><td>NARROW</td><td>4096</td><td>4096</td><td>FULLDISK</td><td>64.64844</td><td>AIA level 1, 4096x4096 [2.902 exposure] [100.00 percentd]</td></tr>\n",
       "<tr><td>2022-03-28 13:58:29.000</td><td>2022-03-28 13:58:30.000</td><td>SDO</td><td>AIA</td><td>304.0 .. 304.0</td><td>JSOC</td><td>intensity</td><td>NARROW</td><td>4096</td><td>4096</td><td>FULLDISK</td><td>64.64844</td><td>AIA level 1, 4096x4096 [2.902 exposure] [100.00 percentd]</td></tr>\n",
       "<tr><td>2022-03-28 13:58:41.000</td><td>2022-03-28 13:58:42.000</td><td>SDO</td><td>AIA</td><td>304.0 .. 304.0</td><td>JSOC</td><td>intensity</td><td>NARROW</td><td>4096</td><td>4096</td><td>FULLDISK</td><td>64.64844</td><td>AIA level 1, 4096x4096 [2.902 exposure] [100.00 percentd]</td></tr>\n",
       "<tr><td>2022-03-28 13:58:53.000</td><td>2022-03-28 13:58:54.000</td><td>SDO</td><td>AIA</td><td>304.0 .. 304.0</td><td>JSOC</td><td>intensity</td><td>NARROW</td><td>4096</td><td>4096</td><td>FULLDISK</td><td>64.64844</td><td>AIA level 1, 4096x4096 [2.902 exposure] [100.00 percentd]</td></tr>\n",
       "<tr><td>2022-03-28 13:59:05.000</td><td>2022-03-28 13:59:06.000</td><td>SDO</td><td>AIA</td><td>304.0 .. 304.0</td><td>JSOC</td><td>intensity</td><td>NARROW</td><td>4096</td><td>4096</td><td>FULLDISK</td><td>64.64844</td><td>AIA level 1, 4096x4096 [2.902 exposure] [100.00 percentd]</td></tr>\n",
       "<tr><td>2022-03-28 13:59:17.000</td><td>2022-03-28 13:59:18.000</td><td>SDO</td><td>AIA</td><td>304.0 .. 304.0</td><td>JSOC</td><td>intensity</td><td>NARROW</td><td>4096</td><td>4096</td><td>FULLDISK</td><td>64.64844</td><td>AIA level 1, 4096x4096 [2.902 exposure] [100.00 percentd]</td></tr>\n",
       "<tr><td>2022-03-28 13:59:29.000</td><td>2022-03-28 13:59:30.000</td><td>SDO</td><td>AIA</td><td>304.0 .. 304.0</td><td>JSOC</td><td>intensity</td><td>NARROW</td><td>4096</td><td>4096</td><td>FULLDISK</td><td>64.64844</td><td>AIA level 1, 4096x4096 [2.902 exposure] [100.00 percentd]</td></tr>\n",
       "<tr><td>2022-03-28 13:59:41.000</td><td>2022-03-28 13:59:42.000</td><td>SDO</td><td>AIA</td><td>304.0 .. 304.0</td><td>JSOC</td><td>intensity</td><td>NARROW</td><td>4096</td><td>4096</td><td>FULLDISK</td><td>64.64844</td><td>AIA level 1, 4096x4096 [2.902 exposure] [100.00 percentd]</td></tr>\n",
       "<tr><td>2022-03-28 13:59:53.000</td><td>2022-03-28 13:59:54.000</td><td>SDO</td><td>AIA</td><td>304.0 .. 304.0</td><td>JSOC</td><td>intensity</td><td>NARROW</td><td>4096</td><td>4096</td><td>FULLDISK</td><td>64.64844</td><td>AIA level 1, 4096x4096 [2.902 exposure] [100.00 percentd]</td></tr>\n",
       "</table></div></br>"
      ],
      "text/plain": [
       "<sunpy.net.fido_factory.UnifiedResponse object at 0x124354670>\n",
       "Results from 1 Provider:\n",
       "\n",
       "900 Results from the VSOClient:\n",
       "Source: http://vso.stanford.edu/cgi-bin/search\n",
       "Total estimated size: 61.01 Gbyte\n",
       "\n",
       "       Start Time               End Time        ...                            Info                          \n",
       "                                                ...                                                          \n",
       "----------------------- ----------------------- ... ---------------------------------------------------------\n",
       "2022-03-28 11:00:05.000 2022-03-28 11:00:06.000 ... AIA level 1, 4096x4096 [2.902 exposure] [100.00 percentd]\n",
       "2022-03-28 11:00:17.000 2022-03-28 11:00:18.000 ... AIA level 1, 4096x4096 [2.902 exposure] [100.00 percentd]\n",
       "2022-03-28 11:00:29.000 2022-03-28 11:00:30.000 ... AIA level 1, 4096x4096 [2.902 exposure] [100.00 percentd]\n",
       "2022-03-28 11:00:41.000 2022-03-28 11:00:42.000 ... AIA level 1, 4096x4096 [2.902 exposure] [100.00 percentd]\n",
       "2022-03-28 11:00:53.000 2022-03-28 11:00:54.000 ... AIA level 1, 4096x4096 [2.902 exposure] [100.00 percentd]\n",
       "2022-03-28 11:01:05.000 2022-03-28 11:01:06.000 ... AIA level 1, 4096x4096 [2.902 exposure] [100.00 percentd]\n",
       "2022-03-28 11:01:17.000 2022-03-28 11:01:18.000 ... AIA level 1, 4096x4096 [2.902 exposure] [100.00 percentd]\n",
       "2022-03-28 11:01:29.000 2022-03-28 11:01:30.000 ... AIA level 1, 4096x4096 [2.902 exposure] [100.00 percentd]\n",
       "2022-03-28 11:01:41.000 2022-03-28 11:01:42.000 ... AIA level 1, 4096x4096 [2.902 exposure] [100.00 percentd]\n",
       "2022-03-28 11:01:53.000 2022-03-28 11:01:54.000 ... AIA level 1, 4096x4096 [2.902 exposure] [100.00 percentd]\n",
       "2022-03-28 11:02:05.000 2022-03-28 11:02:06.000 ... AIA level 1, 4096x4096 [2.902 exposure] [100.00 percentd]\n",
       "2022-03-28 11:02:17.000 2022-03-28 11:02:18.000 ... AIA level 1, 4096x4096 [2.902 exposure] [100.00 percentd]\n",
       "2022-03-28 11:02:29.000 2022-03-28 11:02:30.000 ... AIA level 1, 4096x4096 [2.902 exposure] [100.00 percentd]\n",
       "                    ...                     ... ...                                                       ...\n",
       "2022-03-28 13:57:17.000 2022-03-28 13:57:18.000 ... AIA level 1, 4096x4096 [2.902 exposure] [100.00 percentd]\n",
       "2022-03-28 13:57:29.000 2022-03-28 13:57:30.000 ... AIA level 1, 4096x4096 [2.902 exposure] [100.00 percentd]\n",
       "2022-03-28 13:57:41.000 2022-03-28 13:57:42.000 ... AIA level 1, 4096x4096 [2.902 exposure] [100.00 percentd]\n",
       "2022-03-28 13:57:53.000 2022-03-28 13:57:54.000 ... AIA level 1, 4096x4096 [2.902 exposure] [100.00 percentd]\n",
       "2022-03-28 13:58:05.000 2022-03-28 13:58:06.000 ... AIA level 1, 4096x4096 [2.902 exposure] [100.00 percentd]\n",
       "2022-03-28 13:58:17.000 2022-03-28 13:58:18.000 ... AIA level 1, 4096x4096 [2.902 exposure] [100.00 percentd]\n",
       "2022-03-28 13:58:29.000 2022-03-28 13:58:30.000 ... AIA level 1, 4096x4096 [2.902 exposure] [100.00 percentd]\n",
       "2022-03-28 13:58:41.000 2022-03-28 13:58:42.000 ... AIA level 1, 4096x4096 [2.902 exposure] [100.00 percentd]\n",
       "2022-03-28 13:58:53.000 2022-03-28 13:58:54.000 ... AIA level 1, 4096x4096 [2.902 exposure] [100.00 percentd]\n",
       "2022-03-28 13:59:05.000 2022-03-28 13:59:06.000 ... AIA level 1, 4096x4096 [2.902 exposure] [100.00 percentd]\n",
       "2022-03-28 13:59:17.000 2022-03-28 13:59:18.000 ... AIA level 1, 4096x4096 [2.902 exposure] [100.00 percentd]\n",
       "2022-03-28 13:59:29.000 2022-03-28 13:59:30.000 ... AIA level 1, 4096x4096 [2.902 exposure] [100.00 percentd]\n",
       "2022-03-28 13:59:41.000 2022-03-28 13:59:42.000 ... AIA level 1, 4096x4096 [2.902 exposure] [100.00 percentd]\n",
       "2022-03-28 13:59:53.000 2022-03-28 13:59:54.000 ... AIA level 1, 4096x4096 [2.902 exposure] [100.00 percentd]\n",
       "Length = 900 rows\n"
      ]
     },
     "execution_count": 18,
     "metadata": {},
     "output_type": "execute_result"
    }
   ],
   "source": [
    "result"
   ]
  },
  {
   "cell_type": "markdown",
   "id": "0e769920",
   "metadata": {},
   "source": [
    "We can further specify this query by choosing the cadence (time-sampling) of the data we want to search for and download. This can be achieved by using the Sample attribute. Similar to the Wavelength attributes, this needs to be an astropy Quantity. Lets further specify the search above to only search for data with a cadence of 2 minutes."
   ]
  },
  {
   "cell_type": "code",
   "execution_count": 19,
   "id": "863e63bc",
   "metadata": {},
   "outputs": [],
   "source": [
    "result = Fido.search(a.Time(\"2022-03-28 11:00\", \"2022-03-28 14:00\"), \n",
    "                     a.Instrument(\"AIA\"), \n",
    "                     a.Wavelength(304*u.angstrom),\n",
    "                     a.Sample(10*u.min))"
   ]
  },
  {
   "cell_type": "code",
   "execution_count": 20,
   "id": "b74c5b89",
   "metadata": {},
   "outputs": [
    {
     "data": {
      "text/plain": [
       "18"
      ]
     },
     "execution_count": 20,
     "metadata": {},
     "output_type": "execute_result"
    }
   ],
   "source": [
    "len(result[0])"
   ]
  },
  {
   "cell_type": "markdown",
   "id": "ada3df30",
   "metadata": {},
   "source": [
    "## 1.3 Downloading the data\n",
    "\n",
    "Now we can show how data that is queried above can be downloaded. Once the data you have searched for (and filtered etc) is constructed into a query using `Fido.search`, you can then easily download them using `Fido.fetch`.\n",
    "\n",
    "The data is downloaded via asynchronous and parallel download streams (via parfive), and also allows for failed data downloads to be recognized so that files can be re-requested if not downloaded.\n",
    "\n",
    "Lets now look at how a `UnifiedResponse` from a `Fido.search` can be passed to `Fido.fetch` to download the data"
   ]
  },
  {
   "cell_type": "code",
   "execution_count": null,
   "id": "b4386132",
   "metadata": {},
   "outputs": [
    {
     "data": {
      "application/vnd.jupyter.widget-view+json": {
       "model_id": "5154ede80a8243859354fd9ad97a4d5c",
       "version_major": 2,
       "version_minor": 0
      },
      "text/plain": [
       "Files Downloaded:   0%|          | 0/18 [00:00<?, ?file/s]"
      ]
     },
     "metadata": {},
     "output_type": "display_data"
    }
   ],
   "source": [
    "files = Fido.fetch(result)"
   ]
  },
  {
   "cell_type": "markdown",
   "id": "f095dcd5",
   "metadata": {},
   "source": [
    "These files are downloaded to a local location set in the sunpy.config.file, which by default is ~/sunpy/data/. Fido.fetch returns a parfile.Results object which gives the path to where the files are downloaded to"
   ]
  },
  {
   "cell_type": "code",
   "execution_count": null,
   "id": "f76b4459",
   "metadata": {},
   "outputs": [],
   "source": [
    "print(files[0])"
   ]
  },
  {
   "cell_type": "markdown",
   "id": "f3c0862d",
   "metadata": {},
   "source": [
    "You can also define what directory you want the files to be saved to by passing the directory path to the path keyword in Fido.fetch. For example, I want to download these files to a local directory `./AIA/<name_of_file>`"
   ]
  },
  {
   "cell_type": "code",
   "execution_count": null,
   "id": "e55343c5",
   "metadata": {},
   "outputs": [],
   "source": [
    "Fido.fetch(result, path=\"./{instrument}/{file}\")"
   ]
  },
  {
   "cell_type": "markdown",
   "id": "8cf2ef5f",
   "metadata": {},
   "source": [
    "## 1. 4 More complex queries\n",
    "\n",
    "In addition to making a query to one client for one instrument, `Fido` allows the flexibility to search for data from multiple instruments, wavelengths, times etc, even when the data is being obtained through different clients.\n",
    "\n",
    "This query can be constructed by using the pipe | operator, which joins queries together just like the OR operator.\n",
    "\n",
    "Lets now make a query that searches for both GOES/XRS and AIA data over a particular time period"
   ]
  },
  {
   "cell_type": "code",
   "execution_count": null,
   "id": "e4fa673c",
   "metadata": {},
   "outputs": [],
   "source": [
    "result = Fido.search(a.Time(\"2022-03-28 11:00\", \"2022-03-28 14:00\"), \n",
    "                     a.Instrument.xrs  | (a.Instrument.aia & a.Wavelength(304*u.angstrom)& a.Sample(10*u.min)))"
   ]
  },
  {
   "cell_type": "code",
   "execution_count": null,
   "id": "44e101c1",
   "metadata": {},
   "outputs": [],
   "source": [
    "len(result)"
   ]
  },
  {
   "cell_type": "code",
   "execution_count": null,
   "id": "c26cfaa3",
   "metadata": {},
   "outputs": [],
   "source": [
    "result"
   ]
  },
  {
   "cell_type": "code",
   "execution_count": null,
   "id": "da25e1f5",
   "metadata": {},
   "outputs": [],
   "source": [
    "result[0]"
   ]
  },
  {
   "cell_type": "code",
   "execution_count": null,
   "id": "38dbbf93",
   "metadata": {},
   "outputs": [],
   "source": [
    "result.all_colnames"
   ]
  },
  {
   "cell_type": "markdown",
   "id": "8c6e4a7b",
   "metadata": {},
   "source": [
    "Lets download the GOES XRS data first"
   ]
  },
  {
   "cell_type": "code",
   "execution_count": null,
   "id": "f1a1224b",
   "metadata": {},
   "outputs": [],
   "source": [
    "Fido.fetch(result[0, 0], path=\"./\")"
   ]
  },
  {
   "cell_type": "markdown",
   "id": "c8177428",
   "metadata": {},
   "source": [
    "Now lets say we only want to download one AIA file at a particular time, we can also search the table for certain conditions. Lets say we just want the file that closest to 2022-03-28 12:00. "
   ]
  },
  {
   "cell_type": "code",
   "execution_count": null,
   "id": "dcfc7d60",
   "metadata": {},
   "outputs": [],
   "source": [
    "(np.abs(result[1][\"Start Time\"] - parse_time(\"2022-03-28 12:00\"))).argmin()"
   ]
  },
  {
   "cell_type": "code",
   "execution_count": null,
   "id": "5161e74f",
   "metadata": {},
   "outputs": [],
   "source": [
    "#Fido.fetch(result[1, 6], path=\"./\")"
   ]
  },
  {
   "cell_type": "markdown",
   "id": "088e73fe",
   "metadata": {},
   "source": [
    "\n",
    "## 1. 5 Using External Fido Clients \n",
    "\n",
    "Within `sunpy` core, we support a number of clients to common data providers. However, the `Fido` search interface is extensible such that external packages can write that their own clients that extend `Fido` in order to additional data sources. One such example is the `sunpy_soar` package which adds a client for the Solar Orbter Archive (SOAR).\n"
   ]
  },
  {
   "cell_type": "markdown",
   "id": "fe446878",
   "metadata": {},
   "source": [
    "## SOAR archive searching using sunpy!"
   ]
  },
  {
   "cell_type": "code",
   "execution_count": null,
   "id": "7bdec4a5",
   "metadata": {},
   "outputs": [],
   "source": [
    "import sunpy_soar\n",
    "from sunpy_soar.attrs import Product"
   ]
  },
  {
   "cell_type": "markdown",
   "id": "7237899c",
   "metadata": {},
   "source": [
    "Note that after importing `sunpy_soar`, the SOAR is now listed as a client that `Fido` will search."
   ]
  },
  {
   "cell_type": "code",
   "execution_count": null,
   "id": "65f58c44",
   "metadata": {},
   "outputs": [],
   "source": [
    "Fido"
   ]
  },
  {
   "cell_type": "code",
   "execution_count": null,
   "id": "e67e40ed",
   "metadata": {},
   "outputs": [],
   "source": [
    "eui_query = Fido.search(a.Time(\"2022-03-28 11:00\", \"2022-03-28 14:00\"), \n",
    "                        a.soar.Product(\"EUI-FSI304-IMAGE\"), \n",
    "                        a.Level(2))"
   ]
  },
  {
   "cell_type": "code",
   "execution_count": null,
   "id": "f467ded0",
   "metadata": {},
   "outputs": [],
   "source": [
    "#eui_query"
   ]
  },
  {
   "cell_type": "code",
   "execution_count": null,
   "id": "90f51d06",
   "metadata": {},
   "outputs": [],
   "source": [
    "Fido.fetch(eui_query, path=\"./{instrument}/{file}\")"
   ]
  },
  {
   "cell_type": "markdown",
   "id": "782168ca",
   "metadata": {},
   "source": [
    "We can also search for other data products, for example the Solar Orbiter MAG"
   ]
  },
  {
   "cell_type": "code",
   "execution_count": null,
   "id": "0c24dc25",
   "metadata": {},
   "outputs": [],
   "source": [
    "mag_query = Fido.search(a.Time(\"2022-02-15\", \"2022-02-18\"), \n",
    "                        a.soar.Product(\"MAG-RTN-NORMAL-1-MINUTE\"), \n",
    "                        a.Level(2))"
   ]
  },
  {
   "cell_type": "code",
   "execution_count": null,
   "id": "0fdb0ac2",
   "metadata": {},
   "outputs": [],
   "source": [
    "mag_query"
   ]
  },
  {
   "cell_type": "code",
   "execution_count": null,
   "id": "55f74e44",
   "metadata": {},
   "outputs": [],
   "source": [
    "ff = Fido.fetch(mag_query, path=\"./\")"
   ]
  },
  {
   "cell_type": "code",
   "execution_count": null,
   "id": "f71cd1a4",
   "metadata": {},
   "outputs": [],
   "source": []
  }
 ],
 "metadata": {
  "kernelspec": {
   "display_name": "Python 3 (ipykernel)",
   "language": "python",
   "name": "python3"
  },
  "language_info": {
   "codemirror_mode": {
    "name": "ipython",
    "version": 3
   },
   "file_extension": ".py",
   "mimetype": "text/x-python",
   "name": "python",
   "nbconvert_exporter": "python",
   "pygments_lexer": "ipython3",
   "version": "3.9.13"
  }
 },
 "nbformat": 4,
 "nbformat_minor": 5
}
