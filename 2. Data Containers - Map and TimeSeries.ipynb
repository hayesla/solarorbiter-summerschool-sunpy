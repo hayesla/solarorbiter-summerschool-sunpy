{
 "cells": [
  {
   "cell_type": "markdown",
   "id": "db3ebf33",
   "metadata": {},
   "source": [
    "<div>\n",
    "<img src=\"./images/sunpy_logo.png\" width=\"500\" align=\"left\"/>\n",
    "</div>"
   ]
  },
  {
   "cell_type": "markdown",
   "id": "86a34f2e",
   "metadata": {},
   "source": [
    "# 2. Data Containers"
   ]
  },
  {
   "cell_type": "markdown",
   "id": "eb878ce3",
   "metadata": {},
   "source": [
    "Now we have seen how we can search for and download data - lets now look at how we can read this data in.\n",
    "\n",
    "SunPy provides core data type classes that are designed to provide a consistent interface across data types (timeseries and images) as well as data sources from numerous instruments and observations. They handle all of the manipulation necessary to read data in from mission-specific files. The two main datatypes in SunPy are\n",
    "\n",
    "1. `TimeSeries`  \n",
    "2. `Map`"
   ]
  },
  {
   "cell_type": "code",
   "execution_count": null,
   "id": "dc23a50d",
   "metadata": {},
   "outputs": [],
   "source": [
    "import sunpy.map\n",
    "import sunpy.timeseries\n",
    "from sunpy.coordinates import frames\n",
    "\n",
    "from astropy.coordinates import SkyCoord\n",
    "from astropy import units as u\n",
    "from astropy.visualization import AsymmetricPercentileInterval, ImageNormalize, LogStretch\n",
    "\n",
    "\n",
    "import matplotlib.pyplot as plt\n",
    "from matplotlib import colors\n",
    "import glob\n",
    "import numpy as np"
   ]
  },
  {
   "cell_type": "markdown",
   "id": "82708217",
   "metadata": {},
   "source": [
    "## 2.1 TimeSeries\n",
    "\n",
    "The structure of a [`TimeSeries`](https://docs.sunpy.org/en/stable/guide/data_types/timeseries.html) consists of times and measurements and the underlying structure is that of a `pandas.DataFrame`. \n",
    "\n",
    "SunPy TimeSeries supports time-series data from a wide range of solar-focused instruments. `TimeSeries` can either be created manually or from source files that are currently supported. If a supported file is passed to `TimeSeries` it will automatically detect its source and its instrument-specific meta data will be loaded. \n",
    "\n",
    "Lets create a timeseries from out sample data which is X-ray flux from the GOES X-ray Sensor Data. This data file was downloaded locally in the steps previously! "
   ]
  },
  {
   "cell_type": "code",
   "execution_count": null,
   "id": "54c28b7d",
   "metadata": {},
   "outputs": [],
   "source": [
    "xrs = sunpy.timeseries.TimeSeries('sci_xrsf-l2-flx1s_g16_d20220328_v2-1-0.nc')"
   ]
  },
  {
   "cell_type": "code",
   "execution_count": null,
   "id": "a2235d3b",
   "metadata": {},
   "outputs": [],
   "source": [
    "xrs.peek()"
   ]
  },
  {
   "cell_type": "markdown",
   "id": "b639f4a1",
   "metadata": {},
   "source": [
    "### Inspect the `TimeSeries`\n",
    "\n",
    "Lets now inspect the `TimeSeries` and get at the data. A `TimeSeries` holds data as well as meta data and unit data."
   ]
  },
  {
   "cell_type": "code",
   "execution_count": null,
   "id": "0932cf9d",
   "metadata": {},
   "outputs": [],
   "source": [
    "xrs.units"
   ]
  },
  {
   "cell_type": "code",
   "execution_count": null,
   "id": "29934da1",
   "metadata": {},
   "outputs": [],
   "source": [
    "xrs.meta"
   ]
  },
  {
   "cell_type": "markdown",
   "id": "9fd1a31f",
   "metadata": {},
   "source": [
    "The `TimeSeries` object can also be converted to other formats like a `pandas.DataFrame` or an `astropy.Table` object"
   ]
  },
  {
   "cell_type": "code",
   "execution_count": null,
   "id": "034166a7",
   "metadata": {},
   "outputs": [],
   "source": [
    "xrs.to_dataframe()"
   ]
  },
  {
   "cell_type": "code",
   "execution_count": null,
   "id": "dcc63d3e",
   "metadata": {},
   "outputs": [],
   "source": [
    "xrs.to_table()"
   ]
  },
  {
   "cell_type": "markdown",
   "id": "b00a1623",
   "metadata": {},
   "source": [
    "there are also a number of attributes on each `TimeSeries` derived from the data/metadata."
   ]
  },
  {
   "cell_type": "code",
   "execution_count": null,
   "id": "6b74a1a8",
   "metadata": {},
   "outputs": [],
   "source": [
    "xrs.columns"
   ]
  },
  {
   "cell_type": "code",
   "execution_count": null,
   "id": "c3fe7e5f",
   "metadata": {},
   "outputs": [],
   "source": [
    "xrs.observatory"
   ]
  },
  {
   "cell_type": "markdown",
   "id": "60fb5838",
   "metadata": {},
   "source": [
    "## Manipulating the timeseries data\n",
    "\n",
    "We can manipulate the timeseries, such as truncating (slicing) the data over a certain time period"
   ]
  },
  {
   "cell_type": "code",
   "execution_count": null,
   "id": "018d4a2e",
   "metadata": {},
   "outputs": [],
   "source": [
    "xrs.truncate(\"2022-03-28 11:00\", \"2022-03-28 13:00\").peek()"
   ]
  },
  {
   "cell_type": "markdown",
   "id": "96227948",
   "metadata": {},
   "source": [
    "you can also convert to a `pandas.DataFrame` and then use the functionality there such as resampling etc"
   ]
  },
  {
   "cell_type": "code",
   "execution_count": null,
   "id": "e9339212",
   "metadata": {},
   "outputs": [],
   "source": [
    "xrs_df = xrs.to_dataframe()\n"
   ]
  },
  {
   "cell_type": "code",
   "execution_count": null,
   "id": "12194dbb",
   "metadata": {},
   "outputs": [],
   "source": [
    "xrs_df.plot()\n",
    "plt.yscale(\"log\")"
   ]
  },
  {
   "cell_type": "code",
   "execution_count": null,
   "id": "b4f3a1fa",
   "metadata": {},
   "outputs": [],
   "source": [
    "xrs_df_resample = xrs_df.resample(\"60s\").mean()"
   ]
  },
  {
   "cell_type": "code",
   "execution_count": null,
   "id": "b51ac403",
   "metadata": {},
   "outputs": [],
   "source": [
    "xrs_df_resample.plot()\n",
    "plt.yscale(\"log\")"
   ]
  },
  {
   "cell_type": "markdown",
   "id": "a64ba374",
   "metadata": {},
   "source": [
    "## Solar Orbiter timeseries example\n",
    "\n",
    "You can also pass a list of files to timeseries, and uses the `concatenate` keyword to create one continous timeseries. "
   ]
  },
  {
   "cell_type": "code",
   "execution_count": null,
   "id": "eed4f933",
   "metadata": {},
   "outputs": [],
   "source": [
    "mag_files = glob.glob(\"*.cdf\")\n",
    "\n",
    "mag_solo = sunpy.timeseries.TimeSeries(mag_files, concatenate=True)\n"
   ]
  },
  {
   "cell_type": "code",
   "execution_count": null,
   "id": "8da7cf2c",
   "metadata": {},
   "outputs": [],
   "source": [
    "mag_solo.columns"
   ]
  },
  {
   "cell_type": "code",
   "execution_count": null,
   "id": "d62a9768",
   "metadata": {},
   "outputs": [],
   "source": [
    "mag_solo.peek(['B_RTN_0', 'B_RTN_1', 'B_RTN_2'])"
   ]
  },
  {
   "cell_type": "markdown",
   "id": "2b6db525",
   "metadata": {},
   "source": [
    "# 2.2 Map\n",
    "The sunpy [`Map`](https://docs.sunpy.org/en/stable/guide/data_types/maps.html) class provides the data type structure to store 2-dimensional data associated with a coordinate system.  This allows users to store and manipulate images of the Sun and the heliosphere\n",
    "\n",
    "Maps from all instruments are created using the `sunpy.map.Map` 'factory'. This class takes a wide variety of map-like inputs, for one or more maps and returns you one or many maps. All maps, irrespective of the instrument, behave the same and expose the same functions and properties, however, depending on the instrument different metadata might be read or corrections made."
   ]
  },
  {
   "cell_type": "code",
   "execution_count": null,
   "id": "920a4f52",
   "metadata": {},
   "outputs": [],
   "source": [
    "aia_files = glob.glob(\"./AIA/*.fits\"); aia_files.sort()"
   ]
  },
  {
   "cell_type": "code",
   "execution_count": null,
   "id": "2a8ebd4a",
   "metadata": {},
   "outputs": [],
   "source": [
    "eui_files = glob.glob(\"./EUI/*.fits\"); eui_files.sort()"
   ]
  },
  {
   "cell_type": "code",
   "execution_count": null,
   "id": "5088eaa6",
   "metadata": {},
   "outputs": [],
   "source": [
    "eui_files[2], aia_files[2]"
   ]
  },
  {
   "cell_type": "code",
   "execution_count": null,
   "id": "293cbf2d",
   "metadata": {},
   "outputs": [],
   "source": [
    "aia_map = sunpy.map.Map(aia_files[2])\n",
    "eui_map = sunpy.map.Map(eui_files[2])"
   ]
  },
  {
   "cell_type": "markdown",
   "id": "1840c736",
   "metadata": {},
   "source": [
    "We can easily visualize a map after loading it using the quicklook functionality."
   ]
  },
  {
   "cell_type": "code",
   "execution_count": null,
   "id": "ec83849d",
   "metadata": {},
   "outputs": [],
   "source": [
    "aia_map"
   ]
  },
  {
   "cell_type": "markdown",
   "id": "4ba6f9c6",
   "metadata": {},
   "source": [
    "`Map` provides customized loaders for a number of different instruments, however, if the data file follows the FITS data standards for coordinate information etc then map should be able to read it by default."
   ]
  },
  {
   "cell_type": "markdown",
   "id": "d9c88042",
   "metadata": {},
   "source": [
    "## Attributes of Map\n",
    "\n",
    "`Map` provides a common interface to most 2D imaging solar datasets and provides several useful pieces of metadata. As mentioned in the intro slide, `Map` is a container for holding your data and metadata (usually from the FITS header) together.\n",
    "\n",
    "The `.meta` and `.data` attributes provide access to the metadata and underlying array of image data, respectively.\n"
   ]
  },
  {
   "cell_type": "code",
   "execution_count": null,
   "id": "38701d32",
   "metadata": {
    "scrolled": true
   },
   "outputs": [],
   "source": [
    "aia_map.data"
   ]
  },
  {
   "cell_type": "code",
   "execution_count": null,
   "id": "37255f83",
   "metadata": {},
   "outputs": [],
   "source": [
    "aia_map.meta"
   ]
  },
  {
   "cell_type": "markdown",
   "id": "0d9263ba",
   "metadata": {},
   "source": [
    "\n",
    "\n",
    "However, this metadata can be terse, non-homogeneous, and sometimes difficult to parse. `Map` provides several attributes derived from the underlying raw metadata that expose a uniform interface to the metadata for each map.\n"
   ]
  },
  {
   "cell_type": "code",
   "execution_count": null,
   "id": "5992c2aa",
   "metadata": {},
   "outputs": [],
   "source": [
    "aia_map.wavelength"
   ]
  },
  {
   "cell_type": "code",
   "execution_count": null,
   "id": "57394179",
   "metadata": {},
   "outputs": [],
   "source": [
    "aia_map.rsun_meters"
   ]
  },
  {
   "cell_type": "code",
   "execution_count": null,
   "id": "768b668d",
   "metadata": {},
   "outputs": [],
   "source": [
    "aia_map.processing_level"
   ]
  },
  {
   "cell_type": "code",
   "execution_count": null,
   "id": "90ed2d90",
   "metadata": {},
   "outputs": [],
   "source": [
    "aia_map.unit"
   ]
  },
  {
   "cell_type": "markdown",
   "id": "babc7d95",
   "metadata": {},
   "source": [
    "### Coordinate Information\n",
    "\n",
    "Each `Map` also exposes information about which coordinate system the image was taken in, including the location of the spacecraft that recorded that observation.\n",
    "\n",
    "`sunpy` leverages and extends the powerful astropy coordinate framework that we heard about in the previous tutorial. Additionally, we'll talk more about the sunpy.coordinates subpackage in the next notebook and show some neat examples.\n",
    "\n",
    "For each `Map`, we can easily access what coordinate frame the observation cooresponds to.\n"
   ]
  },
  {
   "cell_type": "code",
   "execution_count": null,
   "id": "ffd11a56",
   "metadata": {},
   "outputs": [],
   "source": [
    "aia_map.coordinate_frame"
   ]
  },
  {
   "cell_type": "code",
   "execution_count": null,
   "id": "0903671b",
   "metadata": {},
   "outputs": [],
   "source": [
    "aia_map.observer_coordinate"
   ]
  },
  {
   "cell_type": "markdown",
   "id": "ff9aa5bf",
   "metadata": {},
   "source": [
    "### `Map` and WCS (World Coordinate System)"
   ]
  },
  {
   "cell_type": "markdown",
   "id": "367c20cc",
   "metadata": {},
   "source": [
    "The world coordinate system (WCS) formalizes provides us a framework for transforming between pixel and world coordinates. The functionality to deal with WCS within sunpy is from the `astropy` package.\n",
    "\n"
   ]
  },
  {
   "cell_type": "code",
   "execution_count": null,
   "id": "4b836aca",
   "metadata": {},
   "outputs": [],
   "source": [
    "aia_map.wcs"
   ]
  },
  {
   "cell_type": "code",
   "execution_count": null,
   "id": "d4a124a8",
   "metadata": {
    "scrolled": true
   },
   "outputs": [],
   "source": [
    "type(aia_map.wcs)"
   ]
  },
  {
   "cell_type": "markdown",
   "id": "f1a37763",
   "metadata": {},
   "source": [
    "\n",
    "### World and Pixel Coordinates\n",
    "\n",
    "We can convert between the world coordinates (arcsec) to pixel coordinates using the `world_to_pixel` method on map which takes a `SkyCoord` and then returns the pixel coordinate. Similarly we can find the world coordinate to the pixel (or array) index. This is done with the `pixel_to_world` method. Lets first look at finding the array (pixel) index for the center of the Sun (0, 0) arcsec:\n",
    "\n"
   ]
  },
  {
   "cell_type": "code",
   "execution_count": null,
   "id": "120d7a5d",
   "metadata": {},
   "outputs": [],
   "source": [
    "aia_map.world_to_pixel(SkyCoord(0*u.arcsec, 0*u.arcsec, frame=aia_map.coordinate_frame))"
   ]
  },
  {
   "cell_type": "code",
   "execution_count": null,
   "id": "873a1b07",
   "metadata": {},
   "outputs": [],
   "source": [
    "aia_map.pixel_to_world(0*u.pix, 0*u.pix)"
   ]
  },
  {
   "cell_type": "markdown",
   "id": "14c8e073",
   "metadata": {},
   "source": [
    "## Visualization of `Map`\n",
    "\n",
    "### Plotting a map"
   ]
  },
  {
   "cell_type": "code",
   "execution_count": null,
   "id": "dc3b0b5d",
   "metadata": {},
   "outputs": [],
   "source": [
    "fig = plt.figure(figsize=(8, 8))\n",
    "aia_map.plot(clip_interval=[1, 99.9]*u.percent)\n",
    "aia_map.draw_limb()\n",
    "aia_map.draw_grid(color='w')"
   ]
  },
  {
   "cell_type": "code",
   "execution_count": null,
   "id": "51757374",
   "metadata": {},
   "outputs": [],
   "source": [
    "norm = ImageNormalize(vmin=0, vmax=200, stretch=LogStretch())\n",
    "plt.figure(figsize=(8,8))\n",
    "ax = fig.add_subplot(projection=eui_map)\n",
    "eui_map.plot(norm=norm)\n",
    "eui_map.draw_grid(color='g')"
   ]
  },
  {
   "cell_type": "code",
   "execution_count": null,
   "id": "b4562135",
   "metadata": {
    "scrolled": true
   },
   "outputs": [],
   "source": [
    "norm = ImageNormalize(vmin=0, vmax=200, stretch=LogStretch())\n",
    "plt.figure(figsize=(8,8))\n",
    "eui_map.plot(norm=norm, cmap=\"viridis\")"
   ]
  },
  {
   "cell_type": "markdown",
   "id": "4d833e4b",
   "metadata": {},
   "source": [
    "## Inspecting and Manipulating the data"
   ]
  },
  {
   "cell_type": "code",
   "execution_count": null,
   "id": "41d2aedc",
   "metadata": {},
   "outputs": [],
   "source": [
    "aia_map.data.shape"
   ]
  },
  {
   "cell_type": "code",
   "execution_count": null,
   "id": "9801aadd",
   "metadata": {},
   "outputs": [],
   "source": [
    "aia_map.data[0][0]"
   ]
  },
  {
   "cell_type": "code",
   "execution_count": null,
   "id": "84fd074d",
   "metadata": {},
   "outputs": [],
   "source": [
    "print(\"Mean:\", aia_map.mean(), \"Max:\", aia_map.max(), \"Min:\", aia_map.min(),  \"Std:\", aia_map.std())"
   ]
  },
  {
   "cell_type": "markdown",
   "id": "9e122e0c",
   "metadata": {},
   "source": [
    "### Rotate a map\n",
    "\n",
    "The `.rotate` method applies a rotation in the image plane, i.e. about an axis out of the page. In the case where we do not specify an angle (or rotation matrix), the image will be rotated such that the world and pixel axes are aligned. In the case of an image in helioprojective coordinate system, this means that solar north will be aligned with the y-like pixel axis of the image"
   ]
  },
  {
   "cell_type": "code",
   "execution_count": null,
   "id": "e741f62a",
   "metadata": {},
   "outputs": [],
   "source": [
    "eui_map_rot = eui_map.rotate(missing=eui_map.min())"
   ]
  },
  {
   "cell_type": "code",
   "execution_count": null,
   "id": "d18a546d",
   "metadata": {},
   "outputs": [],
   "source": [
    "eui_map_rot.plot(norm=norm)"
   ]
  },
  {
   "cell_type": "code",
   "execution_count": null,
   "id": "3a20245f",
   "metadata": {},
   "outputs": [],
   "source": [
    "aia_map_rot = aia_map.rotate(angle=30*u.deg, missing=aia_map.min())"
   ]
  },
  {
   "cell_type": "code",
   "execution_count": null,
   "id": "ff40f3a3",
   "metadata": {},
   "outputs": [],
   "source": [
    "aia_map_rot.plot(clip_interval=[0.1, 99.9]*u.percent)"
   ]
  },
  {
   "cell_type": "markdown",
   "id": "8578cbad",
   "metadata": {},
   "source": [
    "# Crop a map\n",
    "\n",
    "We commonly want to pare down our full field-of-view to a particular region of interest.\n",
    "With a map, we can do this using the `submap` method.\n",
    "\n",
    "We can specify the region of our submap using world coordinates as specified by a `SkyCoord`.\n",
    "These coordinates can be specified in different coordinate systems and still should work (e.g. helioprojective or heliograhic stonyhurst)\n"
   ]
  },
  {
   "cell_type": "code",
   "execution_count": null,
   "id": "d21ca810",
   "metadata": {},
   "outputs": [],
   "source": [
    "bottom_left = SkyCoord(-300*u.arcsec, 20*u.arcsec, frame=aia_map.coordinate_frame)\n",
    "top_right = SkyCoord(390*u.arcsec, 650*u.arcsec, frame=aia_map.coordinate_frame)"
   ]
  },
  {
   "cell_type": "code",
   "execution_count": null,
   "id": "fc2e741a",
   "metadata": {},
   "outputs": [],
   "source": [
    "submap = aia_map.submap(bottom_left, top_right=top_right)"
   ]
  },
  {
   "cell_type": "code",
   "execution_count": null,
   "id": "60e9cdc0",
   "metadata": {},
   "outputs": [],
   "source": [
    "fig = plt.figure()\n",
    "submap.plot(clip_interval=[1, 99.9]*u.percent)"
   ]
  },
  {
   "cell_type": "code",
   "execution_count": null,
   "id": "a893d58d",
   "metadata": {},
   "outputs": [],
   "source": [
    "fig = plt.figure()\n",
    "ax = fig.add_subplot(projection=eui_map)\n",
    "eui_map.plot(norm=norm)\n",
    "eui_map.draw_quadrangle(bottom_left, top_right=top_right, color='b')"
   ]
  },
  {
   "cell_type": "code",
   "execution_count": null,
   "id": "8e5c4619",
   "metadata": {
    "scrolled": false
   },
   "outputs": [],
   "source": [
    "fig = plt.figure(figsize=(11, 5))\n",
    "ax1 = fig.add_subplot(1,2,1,projection=aia_map)\n",
    "aia_map.plot(axes=ax1, clip_interval=(0.1, 99.99)*u.percent)\n",
    "# draw rectangle on the map\n",
    "aia_map.draw_quadrangle(bottom_left, top_right=top_right, \n",
    "                        axes=ax1)\n",
    "\n",
    "ax2 = fig.add_subplot(1,2,2,projection=submap)\n",
    "submap.plot(clip_interval=(0.5, 99.95)*u.percent)\n",
    "\n"
   ]
  },
  {
   "cell_type": "markdown",
   "id": "8d7ef327",
   "metadata": {},
   "source": [
    "## WCS axes and plotting\n",
    "\n",
    "SunPy map uses the [`astropy.visualization.wcsaxes`](https://docs.astropy.org/en/stable/visualization/wcsaxes/index.html#module-astropy.visualization.wcsaxes) module to represent world coordinates. \n",
    "\n",
    "Using WCSAxes is very powerful but has important concepts to think about:\n",
    "\n",
    " * **`world`** coordinates refer to the coordinates of the coordinate system - i.e. arcsec, degrees!\n",
    " * **`pixel`** coordinates refer to the array index of the data! i.e. data[10] etc\n",
    " \n",
    " \n",
    "When plotting on WCSAxes it will by default plot in pixel coordinates, you can override this behavior and plot in `world` coordinates by getting the transformation from the axes with `ax.get_transform('world')`. We will use some of these examples below. Its also important to note that when using the `world` coordinates these have to be in **degrees** so make sure to convert arcsec's to degrees.\n"
   ]
  },
  {
   "cell_type": "code",
   "execution_count": null,
   "id": "8f6fc1f0",
   "metadata": {},
   "outputs": [],
   "source": [
    "fig = plt.figure(figsize=(8, 8))\n",
    "ax = plt.subplot(projection=aia_map)  \n",
    "\n",
    "# plot the map\n",
    "aia_map.plot(clip_interval=[0.5, 99.99]*u.percent)\n",
    "aia_map.draw_limb()\n",
    "aia_map.draw_grid()\n",
    "\n",
    "# plot in pixel coordinates\n",
    "ax.plot(500, 500, marker='o', color=\"b\",  label=\"Pixel coord\")\n",
    "\n",
    "# plot in world coordinates\n",
    "ax.plot((500*u.arcsec).to(u.deg), (500*u.arcsec).to(u.deg),\n",
    "        transform=ax.get_transform('world'), \n",
    "        marker='o',color=\"g\", label=\"World Coord\")\n",
    "\n",
    "ax.legend()"
   ]
  },
  {
   "cell_type": "markdown",
   "id": "98215be3",
   "metadata": {},
   "source": [
    "\n",
    "\n",
    "You can also plot SkyCoords on a Map. Importantly, this can be done with ax.plot_coord and the coordinate does not need to be transformed to the same coordinate frame as the map - it is done automatically if it can be\n"
   ]
  },
  {
   "cell_type": "code",
   "execution_count": null,
   "id": "22598a85",
   "metadata": {},
   "outputs": [],
   "source": [
    "coord1 = SkyCoord(200*u.arcsec, -500*u.arcsec, frame=aia_map.coordinate_frame)\n",
    "coord2 = SkyCoord(20*u.deg, 30*u.deg, frame=frames.HeliographicStonyhurst)"
   ]
  },
  {
   "cell_type": "code",
   "execution_count": null,
   "id": "2eb1c1eb",
   "metadata": {},
   "outputs": [],
   "source": [
    "fig = plt.figure(figsize=(8, 8))\n",
    "\n",
    "ax = fig.add_subplot(projection=aia_map)\n",
    "aia_map.plot(axes=ax, clip_interval=[0.5, 99.99]*u.percent)\n",
    "\n",
    "aia_map.draw_grid(axes=ax)\n",
    "\n",
    "ax.plot_coord(coord1, marker='o', ms=10, color='b')\n",
    "ax.plot_coord(coord2, marker='x', ms=10, color='b')\n",
    "\n"
   ]
  },
  {
   "cell_type": "code",
   "execution_count": null,
   "id": "82674292",
   "metadata": {},
   "outputs": [],
   "source": []
  },
  {
   "cell_type": "code",
   "execution_count": null,
   "id": "ce0e0442",
   "metadata": {},
   "outputs": [],
   "source": []
  }
 ],
 "metadata": {
  "kernelspec": {
   "display_name": "Python 3 (ipykernel)",
   "language": "python",
   "name": "python3"
  },
  "language_info": {
   "codemirror_mode": {
    "name": "ipython",
    "version": 3
   },
   "file_extension": ".py",
   "mimetype": "text/x-python",
   "name": "python",
   "nbconvert_exporter": "python",
   "pygments_lexer": "ipython3",
   "version": "3.9.7"
  }
 },
 "nbformat": 4,
 "nbformat_minor": 5
}
