{
 "cells": [
  {
   "cell_type": "markdown",
   "id": "61292ccf",
   "metadata": {},
   "source": [
    "<div>\n",
    "<img src=\"./images/sunpy_logo.png\" width=\"500\" align=\"left\"/>\n",
    "</div>"
   ]
  },
  {
   "cell_type": "code",
   "execution_count": null,
   "id": "58d89f91",
   "metadata": {},
   "outputs": [],
   "source": [
    "from astropy.coordinates import SkyCoord\n",
    "from astropy import units as u\n",
    "from sunpy.time import parse_time\n",
    "import numpy as np\n",
    "import matplotlib.pyplot as plt\n",
    "import glob\n",
    "import sunpy.map\n",
    "from sunpy.coordinates import frames, get_body_heliographic_stonyhurst, get_horizons_coord, transform_with_sun_center\n",
    "from astropy.visualization import AsymmetricPercentileInterval, ImageNormalize, LogStretch\n",
    "\n"
   ]
  },
  {
   "cell_type": "markdown",
   "id": "359732e5",
   "metadata": {},
   "source": [
    "# 3. Coordinates\n",
    "\n",
    "SunPy uses [`astropy.coordinates`](https://docs.astropy.org/en/stable/coordinates/index.html) to represent points in physical space. This applies to both points in 3D space and projected coordinates in images.\n",
    "\n",
    "The `sunpy.coordinates` sub-package contains:\n",
    "\n",
    "* A robust framework for working with solar-physics coordinate systems\n",
    "* Functions to obtain the locations of solar-system bodies (`sunpy.coordinates.ephemeris`)\n",
    "* Functions to calculate Sun-specific coordinate information (`sunpy.coordinates.sun`)\n",
    "\n",
    "\n",
    "In this notebook we'll introduce some of the powerful functionality available within sunpy"
   ]
  },
  {
   "cell_type": "markdown",
   "id": "b4741055",
   "metadata": {},
   "source": [
    "## Coordinate frameword\n",
    "`sunpy` extends the `astropy.coordinates` framework by adding additional solar-specific coordinate frames and the accompanying transformations between them."
   ]
  },
  {
   "cell_type": "markdown",
   "id": "4edd2feb",
   "metadata": {},
   "source": [
    "<div>\n",
    "<img src=\"./images/coordinates.svg\"/>\n",
    "</div>"
   ]
  },
  {
   "cell_type": "markdown",
   "id": "3e2803cc",
   "metadata": {},
   "source": [
    "### Creating coordinates \n",
    "\n",
    "We deal with coordinates by using astropy's [`SkyCoord`](https://docs.astropy.org/en/stable/api/astropy.coordinates.SkyCoord.html#astropy.coordinates.SkyCoord) class. \n",
    "\n",
    "We have already seem some introduction to this in the previous notebook but lets extend this here!\n",
    "\n",
    "\n",
    "A **coordinate** combines position data with a coordinate frame, and a SkyCoord object is created by passing in positions with specified units and a coordinate frame. Above in the imports cell we've imported [`sunpy.coordinates.frames`](https://docs.sunpy.org/en/stable/code_ref/coordinates/index.html#supported-coordinate-systems) which allow us to use solar physics specific frames such as Helioprojective, Heliographic Stonyhurst, Heliocentric etc. \n",
    "\n",
    "Lets create a point on the Sun in lat and long in the Heliographic Stonyhurst coordinate system"
   ]
  },
  {
   "cell_type": "code",
   "execution_count": null,
   "id": "bdf59165",
   "metadata": {},
   "outputs": [],
   "source": [
    "# longitude, latitude\n",
    "hgs_coord = SkyCoord(10*u.deg, 20*u.deg, obstime=\"2017-08-01\", frame=frames.HeliographicStonyhurst)  \n",
    "hgs_coord"
   ]
  },
  {
   "cell_type": "code",
   "execution_count": null,
   "id": "cdafb17e",
   "metadata": {},
   "outputs": [],
   "source": [
    "print(f\"\"\"Longitude: {hgs_coord.lon}\n",
    "Latitude: {hgs_coord.lat}\n",
    "Distance from Sun center: {hgs_coord.radius}\"\"\")"
   ]
  },
  {
   "cell_type": "code",
   "execution_count": null,
   "id": "8c94e60c",
   "metadata": {},
   "outputs": [],
   "source": [
    "hgs_coord_xyz = SkyCoord(hgs_coord, representation_type='cartesian')\n",
    "hgs_coord_xyz"
   ]
  },
  {
   "cell_type": "markdown",
   "id": "9546b199",
   "metadata": {},
   "source": [
    "We can then transform this coordinate to the any defined coordinate frame defined in astropy or sunpy. Lets transform it to the Helioprojective frame (which is observer-based)"
   ]
  },
  {
   "cell_type": "code",
   "execution_count": null,
   "id": "81328549",
   "metadata": {},
   "outputs": [],
   "source": [
    "hgs_coord.transform_to(frames.Helioprojective(observer=\"earth\"))"
   ]
  },
  {
   "cell_type": "markdown",
   "id": "bd654af7",
   "metadata": {},
   "source": [
    "We can also convert this to other coordinate systems outside the solar-specific ones - for examples ICRS"
   ]
  },
  {
   "cell_type": "code",
   "execution_count": null,
   "id": "f40ab950",
   "metadata": {},
   "outputs": [],
   "source": [
    "hgs_coord.transform_to(\"icrs\")"
   ]
  },
  {
   "cell_type": "markdown",
   "id": "6c0246f9",
   "metadata": {},
   "source": [
    "## An important note about observer based frames\n",
    "\n",
    "Some coordinate frames are defined based on the position of the observer e.g. the Helioprojective and Heliocentric frames. Hence it's important to think about this - particularly when transforming points between coordinate systems. \n",
    "This is shown above when transforming to Helioprojective we needed to pass an `observer` keyword. Similarly, its important that the `obstime` is given also!\n",
    "\n",
    "For example, lets define a point on the Sun in Helioprojective and see what that equivalent point would be from another observer - say Mars!"
   ]
  },
  {
   "cell_type": "code",
   "execution_count": null,
   "id": "3d95d34f",
   "metadata": {},
   "outputs": [],
   "source": [
    "obstime = \"2022-05-02 00:00\""
   ]
  },
  {
   "cell_type": "code",
   "execution_count": null,
   "id": "b383789e",
   "metadata": {},
   "outputs": [],
   "source": [
    "hpc_coord = SkyCoord(0*u.arcsec, 0*u.arcsec, observer=\"earth\", \n",
    "                     obstime=obstime, frame=frames.Helioprojective)\n",
    "hpc_coord"
   ]
  },
  {
   "cell_type": "code",
   "execution_count": null,
   "id": "258e756d",
   "metadata": {},
   "outputs": [],
   "source": [
    "print(hpc_coord.Tx, hpc_coord.Ty)"
   ]
  },
  {
   "cell_type": "code",
   "execution_count": null,
   "id": "2a85a1d2",
   "metadata": {},
   "outputs": [],
   "source": [
    "mars_hpc_coord = hpc_coord.transform_to(frames.Helioprojective(observer=\"mars\"))\n",
    "mars_hpc_coord"
   ]
  },
  {
   "cell_type": "code",
   "execution_count": null,
   "id": "81e9a11a",
   "metadata": {},
   "outputs": [],
   "source": [
    "print(mars_hpc_coord.Tx, mars_hpc_coord.Ty)"
   ]
  },
  {
   "cell_type": "markdown",
   "id": "69bbd73b",
   "metadata": {},
   "source": [
    "## Positions of solar system bodies\n",
    "`sunpy.coordinates` provides functions to obtain the coordinates of solar-system bodies.\n",
    "The function `get_body_heliographic_stonyhurst` which will return the location of the solar-system body in the `HeliographicStonyhurst` frame.\n",
    "\n",
    "For other solar-system bodies (e.g., major man-made spacecraft or comets), you can use `get_horizons_coord()`, which queries JPL HORIZONS:"
   ]
  },
  {
   "cell_type": "code",
   "execution_count": null,
   "id": "3cc8ed81",
   "metadata": {},
   "outputs": [],
   "source": [
    "earth_pos = get_body_heliographic_stonyhurst(\"earth\", \"2022-03-28\")\n",
    "mars_pos = get_body_heliographic_stonyhurst(\"mars\", \"2022-03-28\")"
   ]
  },
  {
   "cell_type": "code",
   "execution_count": null,
   "id": "feda351f",
   "metadata": {},
   "outputs": [],
   "source": [
    "print(mars_pos)"
   ]
  },
  {
   "cell_type": "markdown",
   "id": "2f35636c",
   "metadata": {},
   "source": [
    "For other solar-system bodies (e.g., major man-made spacecraft or comets), you can use get_horizons_coord(), which queries JPL HORIZONS:"
   ]
  },
  {
   "cell_type": "code",
   "execution_count": null,
   "id": "7ded1365",
   "metadata": {},
   "outputs": [],
   "source": [
    "solo_pos = get_horizons_coord(\"solar orbiter\", \"2022-03-28\")"
   ]
  },
  {
   "cell_type": "markdown",
   "id": "533c25f0",
   "metadata": {},
   "source": [
    "## Plotting positions of spacecraft\n",
    "\n",
    "Lets plot the positions of different spacecraft over the recent Solar Orbiter perihelion!"
   ]
  },
  {
   "cell_type": "code",
   "execution_count": null,
   "id": "5b4cee11",
   "metadata": {},
   "outputs": [],
   "source": [
    "perihelion_time = parse_time(\"2022-03-26\")\n",
    "perihelion_seq = perihelion_time + np.arange(-30, 30)*u.day\n"
   ]
  },
  {
   "cell_type": "code",
   "execution_count": null,
   "id": "a2088dcc",
   "metadata": {},
   "outputs": [],
   "source": [
    "solo_coord = get_horizons_coord(\"solar orbiter\", perihelion_seq)\n",
    "psp_coord = get_horizons_coord(\"psp\", perihelion_seq)\n",
    "sdo_coord = get_horizons_coord(\"sdo\", perihelion_seq)"
   ]
  },
  {
   "cell_type": "code",
   "execution_count": null,
   "id": "ca3cd950",
   "metadata": {},
   "outputs": [],
   "source": [
    "fig = plt.figure(dpi=120)\n",
    "ax = fig.add_subplot(projection='polar')\n",
    "\n",
    "# Transform to HGS\n",
    "psp_coord_hgs = psp_coord.heliographic_stonyhurst\n",
    "solo_coord_hgs = solo_coord.heliographic_stonyhurst\n",
    "sdo_coord_hgs = sdo_coord.heliographic_stonyhurst\n",
    "\n",
    "\n",
    "ax.plot(psp_coord_hgs.lon.to('rad'), psp_coord_hgs.radius,\n",
    "        '.', markersize=5, label='PSP')\n",
    "ax.plot(solo_coord_hgs.lon.to('rad'), solo_coord_hgs.radius,\n",
    "        '.', markersize=5, label='SolO')\n",
    "ax.plot(sdo_coord_hgs.lon.to('rad'), sdo_coord_hgs.radius,\n",
    "        '.', markersize=5, label='SDO')\n",
    "\n",
    "\n",
    "ax.legend(loc='lower right')\n",
    "ax.set_theta_zero_location(\"S\")\n",
    "ax.set_title('Positions in Heliographic Stonyhurst (HGS)')"
   ]
  },
  {
   "cell_type": "markdown",
   "id": "edbbea3a",
   "metadata": {},
   "source": [
    "# Reproject Maps from one observer to another\n",
    "\n",
    "\n",
    "## Reproject AIA to Solar Orbiter field of view"
   ]
  },
  {
   "cell_type": "code",
   "execution_count": null,
   "id": "7573194b",
   "metadata": {},
   "outputs": [],
   "source": [
    "aia_files = glob.glob(\"./AIA/*.fits\"); aia_files.sort()\n",
    "eui_files = glob.glob(\"./EUI/*.fits\"); eui_files.sort()"
   ]
  },
  {
   "cell_type": "code",
   "execution_count": null,
   "id": "6f3b3be9",
   "metadata": {},
   "outputs": [],
   "source": [
    "aia_map = sunpy.map.Map(aia_files[2])\n",
    "eui_map = sunpy.map.Map(eui_files[2])"
   ]
  },
  {
   "cell_type": "code",
   "execution_count": null,
   "id": "f50441b6",
   "metadata": {},
   "outputs": [],
   "source": [
    "eui_map.plot_settings[\"norm\"] = ImageNormalize(vmin=0, vmax=300, stretch=LogStretch())\n"
   ]
  },
  {
   "cell_type": "markdown",
   "id": "b30990cc",
   "metadata": {},
   "source": [
    "We can plot the solar limb as seen from EUI on the AIA map"
   ]
  },
  {
   "cell_type": "code",
   "execution_count": null,
   "id": "ef79155f",
   "metadata": {},
   "outputs": [],
   "source": [
    "fig = plt.figure(figsize=(8, 8))\n",
    "\n",
    "ax1 = fig.add_subplot(projection=aia_map)\n",
    "aia_map.plot(axes=ax1, vmin=0, vmax=200)\n",
    "aia_map.draw_limb(axes=ax1, color='white')\n",
    "eui_map.draw_limb(axes=ax1, color='blue', label=\"EUI limb\")\n",
    "\n"
   ]
  },
  {
   "cell_type": "code",
   "execution_count": null,
   "id": "025b9776",
   "metadata": {},
   "outputs": [],
   "source": [
    "fig = plt.figure(figsize=(8, 8))\n",
    "\n",
    "ax1 = fig.add_subplot(projection=eui_map)\n",
    "eui_map.plot(axes=ax1)\n",
    "eui_map.draw_limb(axes=ax1, color='white')\n",
    "aia_map.draw_limb(axes=ax1, color='blue', label=\"AIA limb\")\n",
    "plt.legend()\n",
    "\n"
   ]
  },
  {
   "cell_type": "markdown",
   "id": "18f15634",
   "metadata": {},
   "source": [
    "## Reproject AIA to field of view of Solo"
   ]
  },
  {
   "cell_type": "code",
   "execution_count": null,
   "id": "328e555e",
   "metadata": {},
   "outputs": [],
   "source": [
    "aia_map = aia_map.resample((512, 512)*u.pix)"
   ]
  },
  {
   "cell_type": "code",
   "execution_count": null,
   "id": "4455cca5",
   "metadata": {},
   "outputs": [],
   "source": [
    "from reproject import reproject_interp\n",
    "from astropy.wcs import WCS"
   ]
  },
  {
   "cell_type": "code",
   "execution_count": null,
   "id": "ef4ca19a",
   "metadata": {},
   "outputs": [],
   "source": [
    "outshape = (1500, 1500)# aia_map.data.shape\n",
    "ref_coord = SkyCoord(0*u.arcsec, 0*u.arcsec,\n",
    "                     frame='helioprojective', obstime=eui_map.date, observer=eui_map.observer_coordinate)\n",
    "\n",
    "# Create a FITS WCS header for the reference coordinate and frame\n",
    "header = sunpy.map.make_fitswcs_header(\n",
    "    outshape,\n",
    "    ref_coord,\n",
    "    scale=u.Quantity(aia_map.scale),\n",
    ")\n",
    "header['rsun_ref'] = aia_map.meta['rsun_ref']\n"
   ]
  },
  {
   "cell_type": "code",
   "execution_count": null,
   "id": "bf923617",
   "metadata": {},
   "outputs": [],
   "source": [
    "outmap = aia_map.reproject_to(header)\n",
    "outmap.plot_settings = aia_map.plot_settings"
   ]
  },
  {
   "cell_type": "code",
   "execution_count": null,
   "id": "467fb918",
   "metadata": {},
   "outputs": [],
   "source": [
    "fig = plt.figure(figsize=(8, 8))\n",
    "ax = fig.add_subplot(projection=outmap)\n",
    "outmap.plot(vmin=0, vmax=100)\n",
    "outmap.draw_limb(color='k')\n",
    "ax.set_title(\"AIA from view of Solar Orbiter\")"
   ]
  },
  {
   "cell_type": "code",
   "execution_count": null,
   "id": "bbc2f1c2",
   "metadata": {},
   "outputs": [],
   "source": []
  }
 ],
 "metadata": {
  "kernelspec": {
   "display_name": "Python 3 (ipykernel)",
   "language": "python",
   "name": "python3"
  },
  "language_info": {
   "codemirror_mode": {
    "name": "ipython",
    "version": 3
   },
   "file_extension": ".py",
   "mimetype": "text/x-python",
   "name": "python",
   "nbconvert_exporter": "python",
   "pygments_lexer": "ipython3",
   "version": "3.9.7"
  }
 },
 "nbformat": 4,
 "nbformat_minor": 5
}
