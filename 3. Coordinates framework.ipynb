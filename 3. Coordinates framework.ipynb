{
 "cells": [
  {
   "cell_type": "code",
   "execution_count": 5,
   "id": "58d89f91",
   "metadata": {},
   "outputs": [],
   "source": [
    "from astropy.coordinates import SkyCoord\n",
    "from astropy import units as u\n",
    "\n",
    "from sunpy.coordinates import frames"
   ]
  },
  {
   "cell_type": "markdown",
   "id": "359732e5",
   "metadata": {},
   "source": [
    "# 2. Coordinates\n",
    "\n",
    "SunPy uses [`astropy.coordinates`](https://docs.astropy.org/en/stable/coordinates/index.html) to represent points in physical space. This applies to both points in 3D space and projected coordinates in images.\n",
    "\n",
    "The `sunpy.coordinates` sub-package contains:\n",
    "\n",
    "* A robust framework for working with solar-physics coordinate systems\n",
    "* Functions to obtain the locations of solar-system bodies (`sunpy.coordinates.ephemeris`)\n",
    "* Functions to calculate Sun-specific coordinate information (`sunpy.coordinates.sun`)\n",
    "\n",
    "\n"
   ]
  },
  {
   "cell_type": "markdown",
   "id": "3e2803cc",
   "metadata": {},
   "source": [
    "We deal with coordinates by using astropy's [`SkyCoord`](https://docs.astropy.org/en/stable/api/astropy.coordinates.SkyCoord.html#astropy.coordinates.SkyCoord) class. \n",
    "\n",
    "\n",
    "A **coordinate** combines position data with a coordinate frame, and a SkyCoord object is created by passing in positions with specified units and a coordinate frame. Above in the imports cell we've imported [`sunpy.coordinates.frames`](https://docs.sunpy.org/en/stable/code_ref/coordinates/index.html#supported-coordinate-systems) which allow us to use solar physics specific frames such as Helioprojective, Heliographic Stonyhurst, Heliocentric etc. \n",
    "\n",
    "Lets create a point on the Sun in lat and long in the Heliographic Stonyhurst coordinate system"
   ]
  },
  {
   "cell_type": "code",
   "execution_count": 6,
   "id": "bdf59165",
   "metadata": {},
   "outputs": [
    {
     "data": {
      "text/plain": [
       "<SkyCoord (HeliographicStonyhurst: obstime=2017-08-01T00:00:00.000, rsun=695700.0 km): (lon, lat) in deg\n",
       "    (10., 20.)>"
      ]
     },
     "execution_count": 6,
     "metadata": {},
     "output_type": "execute_result"
    }
   ],
   "source": [
    "# longitude, latitude\n",
    "hgs_coord = SkyCoord(10*u.deg, 20*u.deg, obstime=\"2017-08-01\", frame=frames.HeliographicStonyhurst)  \n",
    "hgs_coord"
   ]
  },
  {
   "cell_type": "code",
   "execution_count": 7,
   "id": "cdafb17e",
   "metadata": {},
   "outputs": [
    {
     "name": "stdout",
     "output_type": "stream",
     "text": [
      "Longitude: 10.0 deg\n",
      "Latitude: 20.0 deg\n",
      "Distance from Sun center: 1.0\n"
     ]
    }
   ],
   "source": [
    "print(f\"\"\"Longitude: {hgs_coord.lon}\n",
    "Latitude: {hgs_coord.lat}\n",
    "Distance from Sun center: {hgs_coord.radius}\"\"\")"
   ]
  },
  {
   "cell_type": "code",
   "execution_count": 8,
   "id": "8c94e60c",
   "metadata": {},
   "outputs": [
    {
     "data": {
      "text/plain": [
       "<SkyCoord (HeliographicStonyhurst: obstime=2017-08-01T00:00:00.000, rsun=695700.0 km): (x, y, z) [dimensionless]\n",
       "    (0.92541658, 0.16317591, 0.34202014)>"
      ]
     },
     "execution_count": 8,
     "metadata": {},
     "output_type": "execute_result"
    }
   ],
   "source": [
    "hgs_coord_xyz = SkyCoord(hgs_coord, representation_type='cartesian')\n",
    "hgs_coord_xyz"
   ]
  },
  {
   "cell_type": "markdown",
   "id": "9546b199",
   "metadata": {},
   "source": [
    "We can then transform this coordinate to the any defined coordinate frame defined in astropy or sunpy. Lets transform it to the Helioprojective frame (which is observer-based)"
   ]
  },
  {
   "cell_type": "code",
   "execution_count": 9,
   "id": "81328549",
   "metadata": {},
   "outputs": [
    {
     "data": {
      "text/plain": [
       "<SkyCoord (Helioprojective: obstime=2017-08-01T00:00:00.000, rsun=695700.0 km, observer=<HeliographicStonyhurst Coordinate for 'earth'>): (Tx, Ty, distance) in (arcsec, arcsec, km)\n",
       "    (154.89224085, 234.48634082, 1.51172864e+08)>"
      ]
     },
     "execution_count": 9,
     "metadata": {},
     "output_type": "execute_result"
    }
   ],
   "source": [
    "hgs_coord.transform_to(frames.Helioprojective(observer=\"earth\"))"
   ]
  },
  {
   "cell_type": "markdown",
   "id": "bd654af7",
   "metadata": {},
   "source": [
    "We can also convert this to other coordinate systems outside the solar-specific ones - for examples ICRS"
   ]
  },
  {
   "cell_type": "code",
   "execution_count": 11,
   "id": "f40ab950",
   "metadata": {},
   "outputs": [
    {
     "data": {
      "text/plain": [
       "<SkyCoord (ICRS): (ra, dec, distance) in (deg, deg, km)\n",
       "    (16.45495249, 16.01388665, 980067.1475033)>"
      ]
     },
     "execution_count": 11,
     "metadata": {},
     "output_type": "execute_result"
    }
   ],
   "source": [
    "hgs_coord.transform_to(\"icrs\")"
   ]
  },
  {
   "cell_type": "markdown",
   "id": "6c0246f9",
   "metadata": {},
   "source": [
    "## 2.1 An important note about observer based frames\n",
    "\n",
    "Some coordinate frames are defined based on the position of the observer e.g. the Helioprojective and Heliocentric frames. Hence it's important to think about this - particularly when transforming points between coordinate systems. \n",
    "This is shown above when transforming to Helioprojective we needed to pass an `observer` keyword. Similarly, its important that the `obstime` is given also!\n",
    "\n",
    "For example, lets define a point on the Sun in Helioprojective and see what that equivalent point would be from another observer - say Mars!"
   ]
  },
  {
   "cell_type": "code",
   "execution_count": 12,
   "id": "3d95d34f",
   "metadata": {},
   "outputs": [],
   "source": [
    "obstime = \"2021-04-11 00:00\""
   ]
  },
  {
   "cell_type": "code",
   "execution_count": 13,
   "id": "b383789e",
   "metadata": {},
   "outputs": [
    {
     "data": {
      "text/plain": [
       "<SkyCoord (Helioprojective: obstime=2021-04-11T00:00:00.000, rsun=695700.0 km, observer=<HeliographicStonyhurst Coordinate for 'earth'>): (Tx, Ty) in arcsec\n",
       "    (0., 0.)>"
      ]
     },
     "execution_count": 13,
     "metadata": {},
     "output_type": "execute_result"
    }
   ],
   "source": [
    "hpc_coord = SkyCoord(0*u.arcsec, 0*u.arcsec, observer=\"earth\", \n",
    "                     obstime=obstime, frame=frames.Helioprojective)\n",
    "hpc_coord"
   ]
  },
  {
   "cell_type": "code",
   "execution_count": 14,
   "id": "258e756d",
   "metadata": {},
   "outputs": [
    {
     "name": "stdout",
     "output_type": "stream",
     "text": [
      "0arcsec 0arcsec\n"
     ]
    }
   ],
   "source": [
    "print(hpc_coord.Tx, hpc_coord.Ty)"
   ]
  },
  {
   "cell_type": "code",
   "execution_count": 15,
   "id": "2a85a1d2",
   "metadata": {},
   "outputs": [
    {
     "data": {
      "text/plain": [
       "<SkyCoord (Helioprojective: obstime=2021-04-11T00:00:00.000, rsun=695700.0 km, observer=<HeliographicStonyhurst Coordinate for 'mars'>): (Tx, Ty, distance) in (arcsec, arcsec, AU)\n",
       "    (586.35256015, -58.93380646, 1.62408482)>"
      ]
     },
     "execution_count": 15,
     "metadata": {},
     "output_type": "execute_result"
    }
   ],
   "source": [
    "mars_hpc_coord = hpc_coord.transform_to(frames.Helioprojective(observer=\"mars\"))\n",
    "mars_hpc_coord"
   ]
  },
  {
   "cell_type": "code",
   "execution_count": 16,
   "id": "81e9a11a",
   "metadata": {},
   "outputs": [
    {
     "name": "stdout",
     "output_type": "stream",
     "text": [
      "586.353arcsec -58.9338arcsec\n"
     ]
    }
   ],
   "source": [
    "print(mars_hpc_coord.Tx, mars_hpc_coord.Ty)"
   ]
  },
  {
   "cell_type": "code",
   "execution_count": null,
   "id": "c0e9939a",
   "metadata": {},
   "outputs": [],
   "source": []
  }
 ],
 "metadata": {
  "kernelspec": {
   "display_name": "Python 3 (ipykernel)",
   "language": "python",
   "name": "python3"
  },
  "language_info": {
   "codemirror_mode": {
    "name": "ipython",
    "version": 3
   },
   "file_extension": ".py",
   "mimetype": "text/x-python",
   "name": "python",
   "nbconvert_exporter": "python",
   "pygments_lexer": "ipython3",
   "version": "3.9.7"
  }
 },
 "nbformat": 4,
 "nbformat_minor": 5
}
